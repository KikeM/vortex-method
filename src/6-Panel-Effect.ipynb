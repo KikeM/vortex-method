{
 "cells": [
  {
   "cell_type": "code",
   "execution_count": 88,
   "metadata": {},
   "outputs": [
    {
     "name": "stdout",
     "output_type": "stream",
     "text": [
      "The autoreload extension is already loaded. To reload it, use:\n",
      "  %reload_ext autoreload\n"
     ]
    }
   ],
   "source": [
    "%load_ext autoreload\n",
    "%autoreload 2"
   ]
  },
  {
   "cell_type": "code",
   "execution_count": 89,
   "metadata": {},
   "outputs": [],
   "source": [
    "import numpy as np\n",
    "import pandas as pd\n",
    "import matplotlib.pyplot as plt\n",
    "\n",
    "from tqdm import tqdm as tqdm\n",
    "\n",
    "from pathlib import Path\n",
    "\n",
    "from matplotlib import rc\n",
    "# rc('font',**{'family':'sans-serif','sans-serif':['Helvetica']})\n",
    "# for Palatino and other serif fonts use:\n",
    "rc('font',**{'family':'serif','serif':['Palatino']})\n",
    "rc('text', usetex=True)"
   ]
  },
  {
   "cell_type": "code",
   "execution_count": 90,
   "metadata": {},
   "outputs": [],
   "source": [
    "N_0 = 1\n",
    "N_N = 2.2\n",
    "num = 20\n",
    "n_space = np.logspace(N_0, N_N, num)\n",
    "n_space = list(map(int, n_space))"
   ]
  },
  {
   "cell_type": "code",
   "execution_count": 91,
   "metadata": {},
   "outputs": [],
   "source": [
    "path_data = Path('../data/convergence')"
   ]
  },
  {
   "cell_type": "markdown",
   "metadata": {},
   "source": [
    "### Create solver methods"
   ]
  },
  {
   "cell_type": "code",
   "execution_count": 92,
   "metadata": {},
   "outputs": [],
   "source": [
    "ITERATIONS_MAX     = 1e8\n",
    "ITERATIONS_RESTART = ITERATIONS_MAX\n",
    "%run 2-Solver.ipynb"
   ]
  },
  {
   "cell_type": "markdown",
   "metadata": {},
   "source": [
    "## Solve for the first airfoil"
   ]
  },
  {
   "cell_type": "markdown",
   "metadata": {},
   "source": [
    "### NACA-0007"
   ]
  },
  {
   "cell_type": "code",
   "execution_count": 93,
   "metadata": {},
   "outputs": [
    {
     "name": "stderr",
     "output_type": "stream",
     "text": [
      "100%|██████████| 20/20 [01:08<00:00,  3.42s/it]\n"
     ]
    }
   ],
   "source": [
    "NACA = '0012'\n",
    "\n",
    "ALPHA = 5\n",
    "\n",
    "data_cl = []\n",
    "\n",
    "for n in tqdm(n_space):\n",
    "    \n",
    "    NUM_POINTS_X = n\n",
    "    %run 1-Geometry.ipynb\n",
    "    \n",
    "    _, cp, cl = solve(ALPHA)\n",
    "    data_cl.append((n, cl))"
   ]
  },
  {
   "cell_type": "code",
   "execution_count": 96,
   "metadata": {},
   "outputs": [],
   "source": [
    "data_df = pd.DataFrame(data_cl, columns = ['x points', 'cl'])\n",
    "\n",
    "data_df['panels'] = (data_df['x points']-1)*2\n",
    "\n",
    "data_df = data_df.set_index('panels')\n",
    "data_df = data_df.drop('x points', axis = 1)"
   ]
  },
  {
   "cell_type": "code",
   "execution_count": 102,
   "metadata": {},
   "outputs": [
    {
     "data": {
      "image/png": "[encoded data removed]",
      "text/plain": [
       "<Figure size 432x288 with 2 Axes>"
      ]
     },
     "metadata": {},
     "output_type": "display_data"
    }
   ],
   "source": [
    "fig, axes = plt.subplots(nrows = 2, ncols = 1, sharex=True)\n",
    "\n",
    "axes = axes.flatten()\n",
    "\n",
    "data_df.plot(ax = axes[0], marker = '.', linewidth = 0.0, legend = False)\n",
    "\n",
    "axes[0].set(title  = 'Convergence test', \n",
    "         ylabel = '$C_l$')\n",
    "\n",
    "data_df.diff().apply(np.log10).plot(marker = 'x', \n",
    "                                    linestyle = '--', \n",
    "                                    ax = axes[1],\n",
    "                                    legend = False)\n",
    "\n",
    "axes[1].set(xlabel = '\\# Panels', \n",
    "            ylabel = '$\\log_{10} |\\Delta C_l|$')\n",
    "\n",
    "plt.savefig(path_data / 'convergence.png', \n",
    "            transparent = False, \n",
    "            bbox_inches = 'tight', dpi = 300)"
   ]
  },
  {
   "cell_type": "code",
   "execution_count": 104,
   "metadata": {},
   "outputs": [],
   "source": [
    "data_df['absolute error'] = data_df['cl'].diff().abs()"
   ]
  },
  {
   "cell_type": "code",
   "execution_count": 107,
   "metadata": {},
   "outputs": [],
   "source": [
    "data_df.to_csv(path_data / 'cl_convergence.csv')"
   ]
  },
  {
   "cell_type": "code",
   "execution_count": 110,
   "metadata": {},
   "outputs": [
    {
     "name": "stdout",
     "output_type": "stream",
     "text": [
      "\\begin{tabular}{lrr}\n",
      "\\toprule\n",
      "{} &        cl &  absolute error \\\\\n",
      "panels &           &                 \\\\\n",
      "\\midrule\n",
      "18     &  0.569770 &                 \\\\\n",
      "20     &  0.572756 &        0.002987 \\\\\n",
      "24     &  0.577315 &        0.004559 \\\\\n",
      "28     &  0.580634 &        0.003318 \\\\\n",
      "32     &  0.583157 &        0.002523 \\\\\n",
      "38     &  0.585974 &        0.002817 \\\\\n",
      "44     &  0.588032 &        0.002058 \\\\\n",
      "52     &  0.590035 &        0.002003 \\\\\n",
      "62     &  0.591803 &        0.001768 \\\\\n",
      "72     &  0.593071 &        0.001268 \\\\\n",
      "82     &  0.594024 &        0.000953 \\\\\n",
      "96     &  0.595019 &        0.000995 \\\\\n",
      "112    &  0.595847 &        0.000828 \\\\\n",
      "130    &  0.596532 &        0.000685 \\\\\n",
      "150    &  0.597097 &        0.000566 \\\\\n",
      "174    &  0.597602 &        0.000505 \\\\\n",
      "202    &  0.598039 &        0.000436 \\\\\n",
      "234    &  0.598408 &        0.000370 \\\\\n",
      "272    &  0.598734 &        0.000325 \\\\\n",
      "314    &  0.599001 &        0.000267 \\\\\n",
      "\\bottomrule\n",
      "\\end{tabular}\n",
      "\n"
     ]
    }
   ],
   "source": [
    "print(data_df.to_latex(na_rep=''))"
   ]
  },
  {
   "cell_type": "code",
   "execution_count": null,
   "metadata": {},
   "outputs": [],
   "source": []
  }
 ],
 "metadata": {
  "kernelspec": {
   "display_name": "Python 3",
   "language": "python",
   "name": "python3"
  },
  "language_info": {
   "codemirror_mode": {
    "name": "ipython",
    "version": 3
   },
   "file_extension": ".py",
   "mimetype": "text/x-python",
   "name": "python",
   "nbconvert_exporter": "python",
   "pygments_lexer": "ipython3",
   "version": "3.6.10"
  }
 },
 "nbformat": 4,
 "nbformat_minor": 4
}
