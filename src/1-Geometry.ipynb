{
 "cells": [
  {
   "cell_type": "markdown",
   "metadata": {},
   "source": [
    "#### Imports\n",
    "\n",
    "* Scientific calculus.\n",
    "* Plotting library.\n",
    "* Models for the NACA airfoil and the panel discretization. "
   ]
  },
  {
   "cell_type": "code",
   "execution_count": 1,
   "metadata": {},
   "outputs": [],
   "source": [
    "import numpy as np\n",
    "\n",
    "import matplotlib.pyplot as plt\n",
    "plt.style.use('ggplot')\n",
    "\n",
    "from naca import NacaGenerator\n",
    "from panel import Panel\n",
    "from model import generate_airfoil"
   ]
  },
  {
   "cell_type": "markdown",
   "metadata": {},
   "source": [
    "## Parameters\n",
    "\n",
    "* NACA 4-digit airfoil.\n",
    "* Number of x points."
   ]
  },
  {
   "cell_type": "markdown",
   "metadata": {},
   "source": [
    "```python\n",
    "NACA = '2412'\n",
    "NUM_POINTS_X = 100\n",
    "```"
   ]
  },
  {
   "cell_type": "markdown",
   "metadata": {},
   "source": [
    "## Airfoil geometry"
   ]
  },
  {
   "cell_type": "code",
   "execution_count": 4,
   "metadata": {},
   "outputs": [
    {
     "data": {
      "image/png": "[encoded data removed]",
      "text/plain": [
       "<Figure size 432x288 with 1 Axes>"
      ]
     },
     "metadata": {},
     "output_type": "display_data"
    }
   ],
   "source": [
    "airfoil = generate_airfoil(NACA, N=NUM_POINTS_X)\n",
    "\n",
    "airfoil.plot()"
   ]
  },
  {
   "cell_type": "markdown",
   "metadata": {},
   "source": [
    "Get the $(x,y)$ coordinates of the boundary points in the **clockwise** direction, starting at the trailing-edge. "
   ]
  },
  {
   "cell_type": "code",
   "execution_count": 5,
   "metadata": {},
   "outputs": [],
   "source": [
    "x, y = airfoil.clockwise_naca()\n",
    "\n",
    "# Enforce actual zeros\n",
    "x = np.where(np.isclose(x, 0), 0, x)\n",
    "y = np.where(np.isclose(y, 0), 0, y)"
   ]
  },
  {
   "cell_type": "markdown",
   "metadata": {},
   "source": [
    "### Panel generation\n",
    "\n",
    "Build a list of panels in the **clockwise** direction. "
   ]
  },
  {
   "cell_type": "code",
   "execution_count": 6,
   "metadata": {},
   "outputs": [],
   "source": [
    "N_b = len(x)\n",
    "\n",
    "x_c   = np.zeros(N_b - 1)\n",
    "y_c   = np.zeros(N_b - 1)\n",
    "S     = np.zeros(N_b - 1)\n",
    "theta = np.zeros(N_b - 1)\n",
    "normals = []\n",
    "lines = []\n",
    "\n",
    "idx = 0\n",
    "for xs, xe, ys, ye in zip(x, x[1:], y, y[1:]):\n",
    "    \n",
    "    # Control points\n",
    "    x_c[idx] = (xs + xe) / 2.0\n",
    "    y_c[idx] = (ys + ye) / 2.0\n",
    "    \n",
    "    # Length\n",
    "    _S     = (xe - xs)**2.0 + (ye - ys)**2.0\n",
    "    S[idx] = np.sqrt(_S) \n",
    "    \n",
    "    # Angle\n",
    "    theta[idx] = np.arctan2(ye - ys , \n",
    "                            xe - xs)\n",
    "    \n",
    "    #########\n",
    "    # Vectors\n",
    "    #########\n",
    "    # Normal\n",
    "    normal = np.array([-(ye-ys), (xe-xs)])\n",
    "    normal = normal / np.linalg.norm(normal)\n",
    "    \n",
    "    normals.append(normal)\n",
    "    \n",
    "    # Line\n",
    "    line = np.array([(xe-xs), (ye-ys)])\n",
    "    line = line / np.linalg.norm(line)\n",
    "    \n",
    "    lines.append(line)\n",
    "    \n",
    "    # Update index counter\n",
    "    idx += 1\n",
    "\n",
    "normals = np.array(normals)\n",
    "lines = np.array(lines)"
   ]
  },
  {
   "cell_type": "markdown",
   "metadata": {},
   "source": [
    "## Build system matrices\n",
    "\n",
    "* No penetration equations.\n",
    "* Tangential velocity computation."
   ]
  },
  {
   "cell_type": "code",
   "execution_count": 7,
   "metadata": {},
   "outputs": [],
   "source": [
    "Cn1 = np.zeros(shape = (N_b-1, N_b-1))\n",
    "Cn2 = np.zeros(shape = (N_b-1, N_b-1))\n",
    "\n",
    "Ct1 = np.zeros(shape = (N_b-1, N_b-1))\n",
    "Ct2 = np.zeros(shape = (N_b-1, N_b-1))\n",
    "\n",
    "for i in range(N_b-1):\n",
    "    for j in range(N_b-1):\n",
    "    \n",
    "        # Fill-in diagonals\n",
    "        if i == j:\n",
    "            \n",
    "            Cn1[i,j] = -1\n",
    "            Cn2[i,j] =  1 \n",
    "            \n",
    "            Ct1[i,j] = 0.5 * np.pi\n",
    "            Ct2[i,j] = 0.5 * np.pi\n",
    "        \n",
    "        else:\n",
    "            \n",
    "            dx = x_c[i] - x[j]\n",
    "            dy = y_c[i] - y[j]\n",
    "            \n",
    "            A = - dx * np.cos(theta[j]) - dy * np.sin(theta[j])\n",
    "            E =   dx * np.sin(theta[j]) - dy * np.cos(theta[j])\n",
    "            \n",
    "            B = dx**2.0 + dy**2.0\n",
    "            \n",
    "            C = np.sin(theta[i] - theta[j])\n",
    "            D = np.cos(theta[i] - theta[j])\n",
    "            \n",
    "            F = np.log(1.0 + ((S[j])**2.0 + (2.0 * A * S[j])) / B)\n",
    "            \n",
    "            G = np.arctan2((E*S[j]) , (B + A * S[j]))\n",
    "            \n",
    "            P = (dx * np.sin(theta[i] - 2.0 * theta[j])) + (dy * np.cos(theta[i] - 2.0 * theta[j]))\n",
    "            Q = (dx * np.cos(theta[i] - 2.0 * theta[j])) - (dy * np.sin(theta[i] - 2.0 * theta[j]))\n",
    "            \n",
    "            # Normal matrix\n",
    "            Cn2[i,j] = D + ((0.5 * Q * F) / S[j]) - ((A*C + D*E) * (G / S[j]))\n",
    "            Cn1[i,j] = 0.5*D*F + C*G - Cn2[i,j]\n",
    "            \n",
    "            # Tangential matrix\n",
    "            Ct2[i,j] = C + ((0.5 * P * F) / S[j]) + ((A*D - C*E) * (G / S[j]))\n",
    "            Ct1[i,j] = 0.5*C*F - D*G - Ct2[i,j]"
   ]
  },
  {
   "cell_type": "code",
   "execution_count": 13,
   "metadata": {},
   "outputs": [],
   "source": [
    "def contribution_vortex_normal(i, j, gamma):\n",
    "    \"\"\"\n",
    "    Compute the normal contribution of the j-th panel \n",
    "    over the i-th control point.\n",
    "\n",
    "    Parameters\n",
    "    ----------\n",
    "    i: int\n",
    "    j: int\n",
    "    gamma: 1D np.array\n",
    "\n",
    "    Returns\n",
    "    -------\n",
    "    float\n",
    "    \"\"\"\n",
    "    return Cn1[i,j] * gamma[j] + Cn2[i,j] * gamma[j+1]\n",
    "\n",
    "def contribution_vortex_tangential(i, j, gamma):\n",
    "    \"\"\"\n",
    "    Compute the tangential contribution of the j-th panel \n",
    "    over the i-th control point.\n",
    "\n",
    "    Parameters\n",
    "    ----------\n",
    "    i: int\n",
    "    j: int\n",
    "    gamma: 1D np.array\n",
    "\n",
    "    Returns\n",
    "    -------\n",
    "    float\n",
    "    \"\"\"\n",
    "    return Ct1[i,j] * gamma[j] + Ct2[i,j] * gamma[j+1]"
   ]
  },
  {
   "cell_type": "code",
   "execution_count": 13,
   "metadata": {},
   "outputs": [],
   "source": [
    "def gammas_matrix_equations(gamma):\n",
    "    \"\"\"\n",
    "    Matrix-vector product implementation of the linear system:\n",
    "\n",
    "    * No penetration condition at the control points.\n",
    "    * Kutta condition at the TE. \n",
    "\n",
    "    Parameters\n",
    "    ----------\n",
    "    gamma: 1D np.array\n",
    "\n",
    "    Returns\n",
    "    -------\n",
    "    np.array\n",
    "    \"\"\" \n",
    "    # Prepare result\n",
    "    result = np.zeros_like(gamma)\n",
    "    \n",
    "    # Matrix-product implementation\n",
    "    for i in range(len(result)-1):\n",
    "        for j in range(len(gamma)-1):\n",
    "            \n",
    "            result[i] += contribution_vortex_normal(i, j, gamma)\n",
    "            \n",
    "    # Compatibility condition at the end\n",
    "    result[-1] = gamma[0] + gamma[-1]\n",
    "    \n",
    "    return result"
   ]
  },
  {
   "cell_type": "markdown",
   "metadata": {},
   "source": [
    "All the above defines the geometry of the problem. From now on, the problem matrices are freezed for the given airfoil and the number of discretization panels.\n",
    "\n",
    "The following blocks of code will implement the solution of the problem. "
   ]
  },
  {
   "cell_type": "markdown",
   "metadata": {},
   "source": [
    "---"
   ]
  }
 ],
 "metadata": {
  "kernelspec": {
   "display_name": "Python 3",
   "language": "python",
   "name": "python3"
  },
  "language_info": {
   "codemirror_mode": {
    "name": "ipython",
    "version": 3
   },
   "file_extension": ".py",
   "mimetype": "text/x-python",
   "name": "python",
   "nbconvert_exporter": "python",
   "pygments_lexer": "ipython3",
   "version": "3.6.10"
  }
 },
 "nbformat": 4,
 "nbformat_minor": 4
}
