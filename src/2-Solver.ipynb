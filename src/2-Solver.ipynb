{
 "cells": [
  {
   "cell_type": "markdown",
   "metadata": {},
   "source": [
    "#### Imports\n",
    "\n",
    "* Linear operator implementation.\n",
    "* Iterative system solver."
   ]
  },
  {
   "cell_type": "code",
   "execution_count": 1,
   "metadata": {},
   "outputs": [],
   "source": [
    "from scipy.sparse.linalg import LinearOperator\n",
    "from scipy.sparse.linalg import gmres"
   ]
  },
  {
   "cell_type": "markdown",
   "metadata": {},
   "source": [
    "# Vortex solver"
   ]
  },
  {
   "cell_type": "markdown",
   "metadata": {},
   "source": [
    "An iterative linear operator will be used. This will not affect our solution, but will simplify the way we build the matrix. "
   ]
  },
  {
   "cell_type": "code",
   "execution_count": 5,
   "metadata": {},
   "outputs": [],
   "source": [
    "def build_RHS(alpha):\n",
    "    \"\"\"\n",
    "    Build the linear system RHS.\n",
    "    \n",
    "    Parameters\n",
    "    ----------\n",
    "    alpha: float\n",
    "        Degrees.\n",
    "        \n",
    "    Returns\n",
    "    -------\n",
    "    np.array\n",
    "    \"\"\"\n",
    "    _alpha = np.deg2rad(alpha)\n",
    "\n",
    "    # RHS\n",
    "    b = np.zeros(N_b)\n",
    "\n",
    "    for idx in range(len(b)-1):\n",
    "        b[idx] = np.sin(theta[idx] - _alpha)\n",
    "\n",
    "    # Kutta condition\n",
    "    b[-1] = 0.0\n",
    "    \n",
    "    return b"
   ]
  },
  {
   "cell_type": "code",
   "execution_count": 6,
   "metadata": {},
   "outputs": [],
   "source": [
    "def compute_velocity(gamma, alpha):\n",
    "    \"\"\"\n",
    "    Compute the velocity magnitude at each control point.\n",
    "    \n",
    "    Parameters\n",
    "    ----------\n",
    "    gamma: np.array\n",
    "    alpha: float\n",
    "        Degrees.\n",
    "        \n",
    "    Returns\n",
    "    -------\n",
    "    np.array\n",
    "    \"\"\"\n",
    "    _alpha = np.deg2rad(alpha)\n",
    "    \n",
    "    # Prepare vector\n",
    "    result = np.zeros(len(gamma)-1)\n",
    "    \n",
    "    # Matrix-product implementation\n",
    "    for i in range(len(result)):\n",
    "        for j in range(len(gamma)-1):\n",
    "            \n",
    "            result[i] += contribution_vortex_tangential(i, j, gamma)\n",
    "    \n",
    "    return np.cos(theta - _alpha) + result"
   ]
  },
  {
   "cell_type": "code",
   "execution_count": 7,
   "metadata": {},
   "outputs": [],
   "source": [
    "def compute_pressure_distribution(gamma, alpha):\n",
    "    \"\"\"\n",
    "    Compute the pressure distribution.\n",
    "    \n",
    "    Parameters\n",
    "    ----------\n",
    "    gamma: np.array\n",
    "    alpha: float\n",
    "        Degrees.\n",
    "    \n",
    "    Returns\n",
    "    -------\n",
    "    np.array\n",
    "    \"\"\"\n",
    "    velocity = compute_velocity(gamma, alpha)\n",
    "    \n",
    "    return 1.0 - np.power(velocity, 2.0)"
   ]
  },
  {
   "cell_type": "code",
   "execution_count": 8,
   "metadata": {},
   "outputs": [],
   "source": [
    "def compute_lift(gamma, alpha):\n",
    "    \"\"\"\n",
    "    Compute the lift coefficient.\n",
    "    \n",
    "    Parameters\n",
    "    ----------\n",
    "    gamma: np.array\n",
    "    alpha: float\n",
    "        Degrees.\n",
    "    \n",
    "    Returns\n",
    "    -------\n",
    "    np.array\n",
    "    \"\"\"\n",
    "    cp    = compute_pressure_distribution(gamma, alpha)\n",
    "    vec_j = np.array([0, 1])\n",
    "     \n",
    "    return np.sum(-cp * np.dot(normals, vec_j) * S)"
   ]
  },
  {
   "cell_type": "code",
   "execution_count": 9,
   "metadata": {},
   "outputs": [],
   "source": [
    "def solve(alpha):\n",
    "    \"\"\"\n",
    "    Solve the airfoil vortex sheets to obtain the\n",
    "    pressure distribution and the lift coefficient.\n",
    "    \n",
    "    Parameters\n",
    "    ----------\n",
    "    alpha: float\n",
    "        Degrees\n",
    "        \n",
    "    Returns\n",
    "    -------\n",
    "    gammas: np.array\n",
    "    cp:     np.array\n",
    "    cl:     float\n",
    "    \n",
    "    Notes\n",
    "    -----\n",
    "    The vortex strength is given in a dimensionless way:\n",
    "    \n",
    "    ```math\n",
    "    \\gamma = \\frac{\\gamma}{2 \\pi V_{\\infty}}\n",
    "    ```\n",
    "    \"\"\"\n",
    "    A = LinearOperator((N_b, N_b), matvec=gammas_matrix_equations)\n",
    "    b = build_RHS(alpha)\n",
    "\n",
    "    gammas, info = gmres(A, b, \n",
    "                         x0      = np.ones(N_b), \n",
    "                         restart = ITERATIONS_RESTART, \n",
    "                         maxiter = ITERATIONS_MAX, \n",
    "                         tol     = 1e-8,\n",
    "                         atol    = 1e-8)\n",
    "    \n",
    "    # Check for convergence\n",
    "    if info != 0:\n",
    "        \n",
    "        raise ValueError('The system did not converge.')\n",
    "        \n",
    "    else:\n",
    "        \n",
    "        cp = compute_pressure_distribution(gamma=gammas, alpha=alpha)\n",
    "        cl = compute_lift                 (gamma=gammas, alpha=alpha)\n",
    "        \n",
    "        return gammas, cp, cl"
   ]
  },
  {
   "cell_type": "code",
   "execution_count": null,
   "metadata": {},
   "outputs": [],
   "source": []
  }
 ],
 "metadata": {
  "kernelspec": {
   "display_name": "Python 3",
   "language": "python",
   "name": "python3"
  },
  "language_info": {
   "codemirror_mode": {
    "name": "ipython",
    "version": 3
   },
   "file_extension": ".py",
   "mimetype": "text/x-python",
   "name": "python",
   "nbconvert_exporter": "python",
   "pygments_lexer": "ipython3",
   "version": "3.6.10"
  }
 },
 "nbformat": 4,
 "nbformat_minor": 4
}
