{
 "cells": [
  {
   "cell_type": "code",
   "execution_count": 83,
   "metadata": {},
   "outputs": [],
   "source": [
    "from pathlib import Path\n",
    "import pandas as pd\n",
    "import numpy as np\n",
    "import matplotlib.pyplot as plt\n",
    "\n",
    "from tqdm import tqdm as tqdm\n",
    "\n",
    "from matplotlib import rc\n",
    "# rc('font',**{'family':'sans-serif','sans-serif':['Helvetica']})\n",
    "# for Palatino and other serif fonts use:\n",
    "rc('font',**{'family':'serif','serif':['Palatino']})\n",
    "rc('text', usetex=True)"
   ]
  },
  {
   "cell_type": "markdown",
   "metadata": {},
   "source": [
    "# Validation with experimental results"
   ]
  },
  {
   "cell_type": "code",
   "execution_count": 84,
   "metadata": {},
   "outputs": [],
   "source": [
    "NACA = '0012'\n",
    "NUM_POINTS_X = 26\n",
    "\n",
    "ITERATIONS_MAX     = 1e4\n",
    "ITERATIONS_RESTART = ITERATIONS_MAX"
   ]
  },
  {
   "cell_type": "code",
   "execution_count": 85,
   "metadata": {},
   "outputs": [
    {
     "data": {
      "image/png": "[encoded data removed]",
      "text/plain": [
       "<Figure size 432x288 with 1 Axes>"
      ]
     },
     "metadata": {},
     "output_type": "display_data"
    }
   ],
   "source": [
    "%run 1-Geometry.ipynb\n",
    "%run 2-Solver.ipynb"
   ]
  },
  {
   "cell_type": "markdown",
   "metadata": {},
   "source": [
    "---"
   ]
  },
  {
   "cell_type": "markdown",
   "metadata": {},
   "source": [
    "## Computing the vortices\n",
    "\n",
    "Compute the RHS, which depends on the incidence angle and the geometry. "
   ]
  },
  {
   "cell_type": "code",
   "execution_count": 86,
   "metadata": {},
   "outputs": [],
   "source": [
    "path_data = Path('../data/naca0012')\n",
    "\n",
    "path_cl = path_data / 'cl.csv'"
   ]
  },
  {
   "cell_type": "code",
   "execution_count": 87,
   "metadata": {},
   "outputs": [],
   "source": [
    "data_df = pd.read_csv(path_cl, \n",
    "                      sep = \"\\s+|\\t+|\\s+\\t+|\\t+\\s+\", \n",
    "                      engine = 'python', index_col='alpha')\n",
    "\n",
    "data_df['Panel Method'] = np.nan"
   ]
  },
  {
   "cell_type": "code",
   "execution_count": 88,
   "metadata": {},
   "outputs": [
    {
     "name": "stderr",
     "output_type": "stream",
     "text": [
      "100%|██████████| 28/28 [00:05<00:00,  4.73it/s]\n"
     ]
    }
   ],
   "source": [
    "for alpha in tqdm(data_df.index):\n",
    "    \n",
    "    _, _ , cl = solve(alpha)\n",
    "    \n",
    "    data_df.loc[alpha, 'Panel Method'] = cl"
   ]
  },
  {
   "cell_type": "code",
   "execution_count": 89,
   "metadata": {},
   "outputs": [],
   "source": [
    "data_df.index = np.round(data_df.index, 2)"
   ]
  },
  {
   "cell_type": "code",
   "execution_count": 90,
   "metadata": {},
   "outputs": [],
   "source": [
    "data_df['Relative Error'] = (data_df['Experimental'] - data_df['Panel Method']).div(data_df['Experimental']).abs()\n",
    "data_df['Absolute Error'] = (data_df['Experimental'] - data_df['Panel Method']).abs()"
   ]
  },
  {
   "cell_type": "code",
   "execution_count": 92,
   "metadata": {},
   "outputs": [
    {
     "data": {
      "image/png": "[encoded data removed]",
      "text/plain": [
       "<Figure size 576x360 with 2 Axes>"
      ]
     },
     "metadata": {},
     "output_type": "display_data"
    }
   ],
   "source": [
    "fig, axes = plt.subplots(ncols=1, nrows=2, figsize=(8,5), sharex=True)\n",
    "\n",
    "axes = axes.flatten()\n",
    "\n",
    "data_df[['Experimental']].plot(marker = 'x', linewidth = 0.0, ax = axes[0])\n",
    "data_df[['Panel Method']].plot(marker = '.', linewidth = 0.0, ax = axes[0])\n",
    "\n",
    "axes[0].set(\n",
    "       # title  = f'NACA 0012 - {N_b-1} panels', \n",
    "       title  = f'NACA 0012', \n",
    "       ylabel = '$C_l$', \n",
    "       xlabel = ''\n",
    "           );\n",
    "\n",
    "data_df['Absolute Error'].round(2).apply(np.log10).plot(marker = 'o', linewidth = 0.0, ax = axes[1])\n",
    "axes[1].set( \n",
    "       ylabel = '$\\\\log_{10}$ (Abs. Error)', \n",
    "       xlabel = '$\\\\alpha$ (deg)');\n",
    "\n",
    "plt.savefig(path_data / 'panels' / f'cl_comparison_{N_b-1}_panels.png', \n",
    "            transparent = False, \n",
    "            bbox_inches = 'tight', dpi = 300)"
   ]
  },
  {
   "cell_type": "markdown",
   "metadata": {},
   "source": [
    "### Output results to CSV"
   ]
  },
  {
   "cell_type": "code",
   "execution_count": 154,
   "metadata": {},
   "outputs": [],
   "source": [
    "data_df[['Experimental', 'Panel Method']].to_csv(path_data / 'panels' / f'cl_comparison_{N_b-1}_panels.csv')"
   ]
  },
  {
   "cell_type": "code",
   "execution_count": 156,
   "metadata": {},
   "outputs": [],
   "source": [
    "data_df['Relative Error'].drop(index = 0.0).mul(100).describe().to_csv(path_data / 'panels' / f'cl_error_rel_{N_b-1}.csv')\n",
    "data_df['Absolute Error'].drop(index = 0.0).mul(100).describe().to_csv(path_data / 'panels' / f'cl_error_abs_{N_b-1}.csv')"
   ]
  },
  {
   "cell_type": "code",
   "execution_count": null,
   "metadata": {},
   "outputs": [],
   "source": []
  }
 ],
 "metadata": {
  "kernelspec": {
   "display_name": "Python 3",
   "language": "python",
   "name": "python3"
  },
  "language_info": {
   "codemirror_mode": {
    "name": "ipython",
    "version": 3
   },
   "file_extension": ".py",
   "mimetype": "text/x-python",
   "name": "python",
   "nbconvert_exporter": "python",
   "pygments_lexer": "ipython3",
   "version": "3.6.10"
  }
 },
 "nbformat": 4,
 "nbformat_minor": 4
}
