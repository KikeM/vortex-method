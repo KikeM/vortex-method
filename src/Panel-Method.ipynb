{
 "cells": [
  {
   "cell_type": "markdown",
   "metadata": {},
   "source": [
    "*Include this to prevent kernel reload during early stages of code development.*"
   ]
  },
  {
   "cell_type": "code",
   "execution_count": null,
   "metadata": {},
   "outputs": [],
   "source": [
    "%load_ext autoreload\n",
    "%autoreload 2"
   ]
  },
  {
   "cell_type": "markdown",
   "metadata": {},
   "source": [
    "#### Imports\n",
    "\n",
    "* Python libraries.\n",
    "* Models for the NACA airfoil and the panel discretization. "
   ]
  },
  {
   "cell_type": "code",
   "execution_count": null,
   "metadata": {},
   "outputs": [],
   "source": [
    "import numpy as np\n",
    "\n",
    "import matplotlib.pyplot as plt\n",
    "plt.style.use('ggplot')\n",
    "\n",
    "from naca import NacaGenerator\n",
    "from panel import Panel"
   ]
  },
  {
   "cell_type": "markdown",
   "metadata": {},
   "source": [
    "# Vortex Panel Method\n",
    "\n",
    "The vortex panel method seeks to obtain the lift coefficient for a *closed* airfoil. \n",
    "\n",
    "The method has two intrinsic parts. At the beginning one must account for the geometrical properties of the airfoil, $\\vec{x}$, which will determine how each vortex will interact with the others. Next, one has to account for the incoming flow, in particular for its incidence angle $\\alpha$. \n",
    "\n",
    "\n",
    "**Detailed breakdown**\n",
    "1. Compute airfoil coordinates.\n",
    "1. Assemble panels:\n",
    "  * Location of control point.\n",
    "  * Length of the panel.\n",
    "  * Normal and line vectors.\n",
    "  * Angle w.r.t. to x-axis.\n",
    "1. Build normal velocity matrices $C_{n,i}$.\n",
    "1. Build tangential velocity matrices $C_{t,i}$.\n",
    "1. Set up linear operator $L(z) = A(\\vec{x})z$ to account for geometry.\n",
    "1. Set up vector $b(\\alpha)$ to account for flow conditions.\n",
    "1. Solve via GMRES iterative method, $L(x) = b(\\alpha, \\vec{x})$.\n",
    "1. Compute relevant physical quantities:\n",
    "  * Pressure distribution $C_p$.\n",
    "  * Lift coefficient via integration $C_l$. \n",
    "---"
   ]
  },
  {
   "cell_type": "markdown",
   "metadata": {},
   "source": [
    "## Problem parameters\n",
    "\n",
    "* NACA 4-digit airfoil.\n",
    "* Number of x points.\n",
    "* AoA in **degrees**."
   ]
  },
  {
   "cell_type": "code",
   "execution_count": 4,
   "metadata": {},
   "outputs": [],
   "source": [
    "NACA = '2412'\n",
    "NUM_POINTS_X = 100\n",
    "ALPHA = 0.0 # DEG"
   ]
  },
  {
   "cell_type": "markdown",
   "metadata": {},
   "source": [
    "## Airfoil geometry"
   ]
  },
  {
   "cell_type": "code",
   "execution_count": 5,
   "metadata": {},
   "outputs": [
    {
     "data": {
      "image/png": "[encoded data removed]",
      "text/plain": [
       "<Figure size 432x288 with 1 Axes>"
      ]
     },
     "metadata": {},
     "output_type": "display_data"
    }
   ],
   "source": [
    "def generate_airfoil(NACA, NUM_POINTS_X):\n",
    "    airfoil = NacaGenerator(naca=NACA)\n",
    "\n",
    "    airfoil.generate_cosine_distribution(N=NUM_POINTS_X);\n",
    "    airfoil.generate_naca();\n",
    "    \n",
    "    return airfoil\n",
    "\n",
    "airfoil = generate_airfoil(NACA, NUM_POINTS_X=NUM_POINTS_X)\n",
    "\n",
    "airfoil.plot()"
   ]
  },
  {
   "cell_type": "markdown",
   "metadata": {},
   "source": [
    "Get the $(x,y)$ coordinates of the boundary points in the **clockwise** direction, starting at the trailing-edge. "
   ]
  },
  {
   "cell_type": "code",
   "execution_count": 6,
   "metadata": {},
   "outputs": [],
   "source": [
    "x, y = airfoil.clockwise_naca()\n",
    "\n",
    "# Enforce actual zeros\n",
    "x = np.where(np.isclose(x, 0), 0, x)\n",
    "y = np.where(np.isclose(y, 0), 0, y)"
   ]
  },
  {
   "cell_type": "markdown",
   "metadata": {},
   "source": [
    "### Panel generation\n",
    "\n",
    "Build a list of panels in the **clockwise** direction. "
   ]
  },
  {
   "cell_type": "code",
   "execution_count": 7,
   "metadata": {},
   "outputs": [],
   "source": [
    "N_b = len(x)\n",
    "\n",
    "x_c   = np.zeros(N_b - 1)\n",
    "y_c   = np.zeros(N_b - 1)\n",
    "S     = np.zeros(N_b - 1)\n",
    "theta = np.zeros(N_b - 1)\n",
    "normals = []\n",
    "lines = []\n",
    "\n",
    "idx = 0\n",
    "for xs, xe, ys, ye in zip(x, x[1:], y, y[1:]):\n",
    "    \n",
    "    # Control points\n",
    "    x_c[idx] = (xs + xe) / 2.0\n",
    "    y_c[idx] = (ys + ye) / 2.0\n",
    "    \n",
    "    # Length\n",
    "    _S     = (xe - xs)**2.0 + (ye - ys)**2.0\n",
    "    S[idx] = np.sqrt(_S) \n",
    "    \n",
    "    # Angle\n",
    "    theta[idx] = np.arctan2(ye - ys , \n",
    "                            xe - xs)\n",
    "    \n",
    "    #########\n",
    "    # Vectors\n",
    "    #########\n",
    "    # Normal\n",
    "    normal = np.array([-(ye-ys), (xe-xs)])\n",
    "    normal = normal / np.linalg.norm(normal)\n",
    "    \n",
    "    normals.append(normal)\n",
    "    \n",
    "    # Line\n",
    "    line = np.array([(xe-xs), (ye-ys)])\n",
    "    line = line / np.linalg.norm(line)\n",
    "    \n",
    "    lines.append(line)\n",
    "    \n",
    "    # Update index counter\n",
    "    idx += 1\n",
    "\n",
    "normals = np.array(normals)\n",
    "lines = np.array(lines)"
   ]
  },
  {
   "cell_type": "markdown",
   "metadata": {},
   "source": [
    "## Build normal and tangential matrices. "
   ]
  },
  {
   "cell_type": "code",
   "execution_count": 8,
   "metadata": {},
   "outputs": [],
   "source": [
    "Cn1 = np.zeros(shape = (N_b-1, N_b-1))\n",
    "Cn2 = np.zeros(shape = (N_b-1, N_b-1))\n",
    "\n",
    "Ct1 = np.zeros(shape = (N_b-1, N_b-1))\n",
    "Ct2 = np.zeros(shape = (N_b-1, N_b-1))\n",
    "\n",
    "for i in range(N_b-1):\n",
    "    for j in range(N_b-1):\n",
    "    \n",
    "        # Fill-in diagonals\n",
    "        if i == j:\n",
    "            \n",
    "            Cn1[i,j] = -1\n",
    "            Cn2[i,j] =  1 \n",
    "            \n",
    "            Ct1[i,j] = 0.5 * np.pi\n",
    "            Ct2[i,j] = 0.5 * np.pi\n",
    "        \n",
    "        else:\n",
    "            \n",
    "            dx = x_c[i] - x[j]\n",
    "            dy = y_c[i] - y[j]\n",
    "            \n",
    "            A = - dx * np.cos(theta[j]) - dy * np.sin(theta[j])\n",
    "            E =   dx * np.sin(theta[j]) - dy * np.cos(theta[j])\n",
    "            \n",
    "            B = dx**2.0 + dy**2.0\n",
    "            \n",
    "            C = np.sin(theta[i] - theta[j])\n",
    "            D = np.cos(theta[i] - theta[j])\n",
    "            \n",
    "            F = np.log(1.0 + ((S[j])**2.0 + (2.0 * A * S[j])) / B)\n",
    "            \n",
    "            G = np.arctan2((E*S[j]) , (B + A * S[j]))\n",
    "            \n",
    "            P = (dx * np.sin(theta[i] - 2.0 * theta[j])) + (dy * np.cos(theta[i] - 2.0 * theta[j]))\n",
    "            Q = (dx * np.cos(theta[i] - 2.0 * theta[j])) - (dy * np.sin(theta[i] - 2.0 * theta[j]))\n",
    "            \n",
    "            # Normal matrix\n",
    "            Cn2[i,j] = D + ((0.5 * Q * F) / S[j]) - ((A*C + D*E) * (G / S[j]))\n",
    "            Cn1[i,j] = 0.5*D*F + C*G - Cn2[i,j]\n",
    "            \n",
    "            # Tangential matrix\n",
    "            Ct2[i,j] = C + ((0.5 * P * F) / S[j]) + ((A*D - C*E) * (G / S[j]))\n",
    "            Ct1[i,j] = 0.5*C*F - D*G - Ct2[i,j]"
   ]
  },
  {
   "cell_type": "code",
   "execution_count": 9,
   "metadata": {},
   "outputs": [],
   "source": [
    "def summand(i, j, gamma):\n",
    "    \n",
    "    return Cn1[i,j] * gamma[j] + Cn2[i,j] * gamma[j+1]"
   ]
  },
  {
   "cell_type": "code",
   "execution_count": 10,
   "metadata": {},
   "outputs": [],
   "source": [
    "def system_of_equations(gamma):\n",
    "        \n",
    "    # Prepare gammas\n",
    "    result = np.zeros_like(gamma)\n",
    "    \n",
    "    # Matrix-product implementation\n",
    "    for i in range(len(result)-1):\n",
    "        for j in range(len(gamma)-1):\n",
    "            \n",
    "            result[i] += summand(i, j, gamma)\n",
    "            \n",
    "    # Compatibility condition at the end\n",
    "    result[-1] = gamma[0] + gamma[-1]\n",
    "    \n",
    "    return result"
   ]
  },
  {
   "cell_type": "markdown",
   "metadata": {},
   "source": [
    "## Airflow solution\n",
    "\n",
    "So far, everything depends on the geometry. Now we are going to compute the RHS, which depends on the incidence angle and the geometry. "
   ]
  },
  {
   "cell_type": "code",
   "execution_count": 11,
   "metadata": {},
   "outputs": [
    {
     "ename": "ModuleNotFoundError",
     "evalue": "No module named 'scipy'",
     "output_type": "error",
     "traceback": [
      "\u001b[0;31m---------------------------------------------------------------------------\u001b[0m",
      "\u001b[0;31mModuleNotFoundError\u001b[0m                       Traceback (most recent call last)",
      "\u001b[0;32m<ipython-input-11-b679bc7daf3a>\u001b[0m in \u001b[0;36m<module>\u001b[0;34m\u001b[0m\n\u001b[0;32m----> 1\u001b[0;31m \u001b[0;32mfrom\u001b[0m \u001b[0mscipy\u001b[0m\u001b[0;34m.\u001b[0m\u001b[0msparse\u001b[0m\u001b[0;34m.\u001b[0m\u001b[0mlinalg\u001b[0m \u001b[0;32mimport\u001b[0m \u001b[0mLinearOperator\u001b[0m\u001b[0;34m\u001b[0m\u001b[0;34m\u001b[0m\u001b[0m\n\u001b[0m\u001b[1;32m      2\u001b[0m \u001b[0;32mfrom\u001b[0m \u001b[0mscipy\u001b[0m\u001b[0;34m.\u001b[0m\u001b[0msparse\u001b[0m\u001b[0;34m.\u001b[0m\u001b[0mlinalg\u001b[0m \u001b[0;32mimport\u001b[0m \u001b[0mgmres\u001b[0m\u001b[0;34m\u001b[0m\u001b[0;34m\u001b[0m\u001b[0m\n",
      "\u001b[0;31mModuleNotFoundError\u001b[0m: No module named 'scipy'"
     ]
    }
   ],
   "source": [
    "from scipy.sparse.linalg import LinearOperator\n",
    "from scipy.sparse.linalg import gmres"
   ]
  },
  {
   "cell_type": "markdown",
   "metadata": {},
   "source": [
    "An iterative linear operator will be used. This will not affect our solution, but will simplify the way we build the matrix. "
   ]
  },
  {
   "cell_type": "code",
   "execution_count": null,
   "metadata": {},
   "outputs": [],
   "source": [
    "A = LinearOperator((N_b, N_b), matvec=system_of_equations)\n",
    "A"
   ]
  },
  {
   "cell_type": "code",
   "execution_count": null,
   "metadata": {},
   "outputs": [],
   "source": [
    "ALPHA = np.deg2rad(ALPHA)\n",
    "\n",
    "# RHS\n",
    "b = np.zeros(N_b)\n",
    "\n",
    "for idx in range(len(b)-1):\n",
    "    b[idx] = np.sin(theta[idx] - ALPHA)\n",
    "\n",
    "# Kutta condition\n",
    "b[-1] = 0.0"
   ]
  },
  {
   "cell_type": "code",
   "execution_count": null,
   "metadata": {},
   "outputs": [],
   "source": [
    "ITERATIONS_MAX     = 10000\n",
    "ITERATIONS_RESTART = ITERATIONS_MAX"
   ]
  },
  {
   "cell_type": "code",
   "execution_count": 12,
   "metadata": {},
   "outputs": [
    {
     "ename": "NameError",
     "evalue": "name 'gmres' is not defined",
     "output_type": "error",
     "traceback": [
      "\u001b[0;31m---------------------------------------------------------------------------\u001b[0m",
      "\u001b[0;31mNameError\u001b[0m                                 Traceback (most recent call last)",
      "\u001b[0;32m<ipython-input-12-d9efe41c8a49>\u001b[0m in \u001b[0;36m<module>\u001b[0;34m\u001b[0m\n\u001b[0;32m----> 1\u001b[0;31m gammas, info = gmres(A, b, \n\u001b[0m\u001b[1;32m      2\u001b[0m                      \u001b[0mx0\u001b[0m      \u001b[0;34m=\u001b[0m \u001b[0mnp\u001b[0m\u001b[0;34m.\u001b[0m\u001b[0mones\u001b[0m\u001b[0;34m(\u001b[0m\u001b[0mN_b\u001b[0m\u001b[0;34m)\u001b[0m\u001b[0;34m,\u001b[0m\u001b[0;34m\u001b[0m\u001b[0;34m\u001b[0m\u001b[0m\n\u001b[1;32m      3\u001b[0m                      \u001b[0mrestart\u001b[0m \u001b[0;34m=\u001b[0m \u001b[0mITERATIONS_RESTART\u001b[0m\u001b[0;34m,\u001b[0m\u001b[0;34m\u001b[0m\u001b[0;34m\u001b[0m\u001b[0m\n\u001b[1;32m      4\u001b[0m                      \u001b[0mmaxiter\u001b[0m \u001b[0;34m=\u001b[0m \u001b[0mITERATIONS_MAX\u001b[0m\u001b[0;34m,\u001b[0m\u001b[0;34m\u001b[0m\u001b[0;34m\u001b[0m\u001b[0m\n\u001b[1;32m      5\u001b[0m                      \u001b[0mtol\u001b[0m     \u001b[0;34m=\u001b[0m \u001b[0;36m1e-8\u001b[0m\u001b[0;34m,\u001b[0m\u001b[0;34m\u001b[0m\u001b[0;34m\u001b[0m\u001b[0m\n",
      "\u001b[0;31mNameError\u001b[0m: name 'gmres' is not defined"
     ]
    }
   ],
   "source": [
    "gammas, info = gmres(A, b, \n",
    "                     x0      = np.ones(N_b), \n",
    "                     restart = ITERATIONS_RESTART, \n",
    "                     maxiter = ITERATIONS_MAX, \n",
    "                     tol     = 1e-8,\n",
    "                     atol    = 1e-8) "
   ]
  },
  {
   "cell_type": "code",
   "execution_count": 530,
   "metadata": {},
   "outputs": [
    {
     "data": {
      "text/plain": [
       "0"
      ]
     },
     "execution_count": 530,
     "metadata": {},
     "output_type": "execute_result"
    }
   ],
   "source": [
    "info"
   ]
  },
  {
   "cell_type": "code",
   "execution_count": 531,
   "metadata": {},
   "outputs": [],
   "source": [
    "def summand_tangential(i, j, gamma):\n",
    "    \n",
    "    return Ct1[i][j] * gamma[j] + Ct2[i][j] * gamma[j+1]"
   ]
  },
  {
   "cell_type": "code",
   "execution_count": 532,
   "metadata": {},
   "outputs": [],
   "source": [
    "def compute_velocity(gamma):\n",
    "    \n",
    "    # Prepare gammas\n",
    "    result = np.zeros(len(gamma)-1)\n",
    "    \n",
    "    # Matrix-product implementation\n",
    "    for i in range(len(result)):\n",
    "        for j in range(len(gamma)-1):\n",
    "            \n",
    "            result[i] += summand_tangential(i, j, gamma)\n",
    "    \n",
    "    return np.cos(theta - ALPHA) + result"
   ]
  },
  {
   "cell_type": "code",
   "execution_count": 533,
   "metadata": {},
   "outputs": [],
   "source": [
    "def compute_pressure_distribution(gamma):\n",
    "    \n",
    "    velocity = compute_velocity(gamma)\n",
    "    \n",
    "    return 1.0 - np.power(velocity, 2.0)"
   ]
  },
  {
   "cell_type": "code",
   "execution_count": 534,
   "metadata": {},
   "outputs": [],
   "source": [
    "def compute_lift(gamma):\n",
    "    \n",
    "    cp = compute_pressure_distribution(gamma)\n",
    "    vec_j = np.array([0, 1])\n",
    "     \n",
    "    return np.sum(-cp * np.dot(normals, vec_j) * S)"
   ]
  },
  {
   "cell_type": "code",
   "execution_count": 535,
   "metadata": {},
   "outputs": [
    {
     "data": {
      "text/plain": [
       "0.25830828966047453"
      ]
     },
     "execution_count": 535,
     "metadata": {},
     "output_type": "execute_result"
    }
   ],
   "source": [
    "compute_lift(gammas)"
   ]
  },
  {
   "cell_type": "code",
   "execution_count": 536,
   "metadata": {},
   "outputs": [
    {
     "data": {
      "text/plain": [
       "Text(0.5, 0, '$x$')"
      ]
     },
     "execution_count": 536,
     "metadata": {},
     "output_type": "execute_result"
    },
    {
     "data": {
      "image/png": "[encoded data removed]",
      "text/plain": [
       "<Figure size 432x288 with 1 Axes>"
      ]
     },
     "metadata": {},
     "output_type": "display_data"
    }
   ],
   "source": [
    "cp = compute_pressure_distribution(gammas)\n",
    "\n",
    "plt.plot(x_c, -cp)\n",
    "plt.ylabel('-$C_p$')\n",
    "plt.xlabel('$x$')"
   ]
  },
  {
   "cell_type": "code",
   "execution_count": 537,
   "metadata": {},
   "outputs": [
    {
     "data": {
      "text/plain": [
       "Text(0.5, 0, '$x$')"
      ]
     },
     "execution_count": 537,
     "metadata": {},
     "output_type": "execute_result"
    },
    {
     "data": {
      "image/png": "[encoded data removed]",
      "text/plain": [
       "<Figure size 432x288 with 1 Axes>"
      ]
     },
     "metadata": {},
     "output_type": "display_data"
    }
   ],
   "source": [
    "plt.plot(x, gammas)\n",
    "plt.ylabel('$\\gamma_i$')\n",
    "plt.xlabel('$x$')"
   ]
  },
  {
   "cell_type": "code",
   "execution_count": null,
   "metadata": {},
   "outputs": [],
   "source": []
  }
 ],
 "metadata": {
  "kernelspec": {
   "display_name": "Python 3",
   "language": "python",
   "name": "python3"
  },
  "language_info": {
   "codemirror_mode": {
    "name": "ipython",
    "version": 3
   },
   "file_extension": ".py",
   "mimetype": "text/x-python",
   "name": "python",
   "nbconvert_exporter": "python",
   "pygments_lexer": "ipython3",
   "version": "3.6.10"
  }
 },
 "nbformat": 4,
 "nbformat_minor": 4
}
