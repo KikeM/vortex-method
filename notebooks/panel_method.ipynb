{
 "cells": [
  {
   "cell_type": "code",
   "execution_count": 1,
   "metadata": {},
   "outputs": [],
   "source": [
    "%load_ext autoreload\n",
    "%autoreload 2"
   ]
  },
  {
   "cell_type": "markdown",
   "metadata": {},
   "source": [
    "## Imports\n",
    "\n",
    "* Python libraries.\n",
    "* Models for the NACA airfoil and the panel discretization. "
   ]
  },
  {
   "cell_type": "code",
   "execution_count": 2,
   "metadata": {},
   "outputs": [],
   "source": [
    "import numpy as np\n",
    "import pandas as pd\n",
    "\n",
    "import seaborn as sns\n",
    "import matplotlib.pyplot as plt\n",
    "plt.style.use('ggplot')\n",
    "\n",
    "from naca import NacaGenerator\n",
    "from panel import Panel"
   ]
  },
  {
   "cell_type": "markdown",
   "metadata": {},
   "source": [
    "# Vortex Panel Method"
   ]
  },
  {
   "cell_type": "markdown",
   "metadata": {},
   "source": [
    "Define the NACA profile and the number of points. "
   ]
  },
  {
   "cell_type": "code",
   "execution_count": 3,
   "metadata": {},
   "outputs": [],
   "source": [
    "NACA = '0012'\n",
    "NUM_POINTS_X = 200"
   ]
  },
  {
   "cell_type": "markdown",
   "metadata": {},
   "source": [
    "Helper method to create the airfoil."
   ]
  },
  {
   "cell_type": "code",
   "execution_count": 4,
   "metadata": {},
   "outputs": [],
   "source": [
    "def generate_airfoil(NACA, NUM_POINTS_X):\n",
    "    airfoil = NacaGenerator(naca=NACA)\n",
    "\n",
    "    airfoil.generate_cosine_distribution(N=NUM_POINTS_X);\n",
    "    airfoil.generate_naca();\n",
    "    \n",
    "    return airfoil"
   ]
  },
  {
   "cell_type": "markdown",
   "metadata": {},
   "source": [
    "Generate the airfoil. "
   ]
  },
  {
   "cell_type": "code",
   "execution_count": 26,
   "metadata": {},
   "outputs": [
    {
     "data": {
      "image/png": "[encoded data removed]",
      "text/plain": [
       "<Figure size 432x288 with 1 Axes>"
      ]
     },
     "metadata": {
      "needs_background": "light"
     },
     "output_type": "display_data"
    }
   ],
   "source": [
    "airfoil = generate_airfoil(NACA, NUM_POINTS_X=NUM_POINTS_X)\n",
    "\n",
    "airfoil.plot()"
   ]
  },
  {
   "cell_type": "markdown",
   "metadata": {},
   "source": [
    "Get the $(x,y)$ coordinates of the airfoil in the **clockwise** direction, starting by the trailing-edge. "
   ]
  },
  {
   "cell_type": "code",
   "execution_count": 6,
   "metadata": {},
   "outputs": [],
   "source": [
    "x, y = airfoil.clockwise_naca()"
   ]
  },
  {
   "cell_type": "markdown",
   "metadata": {},
   "source": [
    "Build a list of panels in the **clockwise** direction. "
   ]
  },
  {
   "cell_type": "code",
   "execution_count": 7,
   "metadata": {},
   "outputs": [
    {
     "name": "stdout",
     "output_type": "stream",
     "text": [
      "Generating panels ...\n",
      "Number of panels: 398\n"
     ]
    }
   ],
   "source": [
    "print('Generating panels ...')\n",
    "\n",
    "panels = []\n",
    "\n",
    "for x_start, x_end, y_start, y_end in zip(x, x[1:], y, y[1:]):\n",
    "    \n",
    "    start = np.array([x_start, y_start])\n",
    "    end   = np.array([x_end,   y_end])\n",
    "    \n",
    "    panel = Panel(start=start, end=end)\n",
    "    \n",
    "    panels.append(panel)\n",
    "\n",
    "NUM_PANELS = len(panels)\n",
    "print('Number of panels:', NUM_PANELS)"
   ]
  },
  {
   "cell_type": "markdown",
   "metadata": {},
   "source": [
    "Get the control points and the angles. "
   ]
  },
  {
   "cell_type": "code",
   "execution_count": 8,
   "metadata": {},
   "outputs": [],
   "source": [
    "mid_points = []\n",
    "thetas     = []\n",
    "\n",
    "for panel in panels:\n",
    "    \n",
    "    mid_points.append({'x_c': panel.mid_point})\n",
    "    thetas.append(panel.angle)"
   ]
  },
  {
   "cell_type": "markdown",
   "metadata": {},
   "source": [
    "Here is where the bug is. We are counting *twice* each boundary point, since we include it in the `#Start` *and* in the `#End`."
   ]
  },
  {
   "cell_type": "code",
   "execution_count": 9,
   "metadata": {},
   "outputs": [],
   "source": [
    "boundary_points = []\n",
    "control_points  = []\n",
    "\n",
    "for panel in panels:\n",
    "    \n",
    "    # Start\n",
    "    boundary_points.append({'x':panel.start[0], 'y': panel.start[1], \n",
    "                            'S':panel.length,   'theta':panel.angle, \n",
    "                            'x_c': panel.mid_point_x, 'y_c': panel.mid_point_y})\n",
    "    # End\n",
    "    # boundary_points.append({'x':panel.end[0], 'y': panel.end[1], \n",
    "    #                        'S':panel.length, 'theta':panel.angle, \n",
    "    #                         'x_c': panel.mid_point_x, 'y_c': panel.mid_point_y})\n",
    "    \n",
    "    # Middle point\n",
    "    control_points.append({'S':panel.length,   'theta':panel.angle, \n",
    "                           'x': panel.mid_point_x, 'y': panel.mid_point_y})\n",
    "    \n",
    "# Last point\n",
    "panel = panels[-1]\n",
    "boundary_points.append({'x':panel.start[0], 'y': panel.start[1], \n",
    "                        'S':panel.length,   'theta':panel.angle, \n",
    "                        'x_c': panel.mid_point_x, 'y_c': panel.mid_point_y})"
   ]
  },
  {
   "cell_type": "code",
   "execution_count": 10,
   "metadata": {},
   "outputs": [
    {
     "name": "stdout",
     "output_type": "stream",
     "text": [
      "We have 398 control points.\n",
      "We have 399 boundary points.\n"
     ]
    }
   ],
   "source": [
    "N_c = len(control_points)\n",
    "N_b = len(boundary_points)\n",
    "\n",
    "print(f'We have {N_c} control points.')\n",
    "print(f'We have {N_b} boundary points.')"
   ]
  },
  {
   "cell_type": "code",
   "execution_count": 11,
   "metadata": {},
   "outputs": [],
   "source": [
    "A = np.zeros(shape = (N_c, N_b))\n",
    "B = np.zeros(shape = (N_c, N_b))\n",
    "C = np.zeros(shape = (N_c, N_b))\n",
    "D = np.zeros(shape = (N_c, N_b))\n",
    "E = np.zeros(shape = (N_c, N_b))\n",
    "F = np.zeros(shape = (N_c, N_b))\n",
    "G = np.zeros(shape = (N_c, N_b))\n",
    "P = np.zeros(shape = (N_c, N_b))\n",
    "Q = np.zeros(shape = (N_c, N_b))\n",
    "\n",
    "C1 = np.zeros(shape = (N_c, N_b))\n",
    "C2 = np.zeros(shape = (N_c, N_b))\n",
    "\n",
    "Ct1 = np.zeros(shape = (N_c, N_b))\n",
    "Ct2 = np.zeros(shape = (N_c, N_b))\n",
    "\n",
    "for row, control in enumerate(control_points, start = 0):\n",
    "    \n",
    "    for col, boundary in enumerate(boundary_points, start = 0):\n",
    "        \n",
    "        # Normal matrices\n",
    "        dx = (control['x'] - boundary['x'])\n",
    "        dy = (control['y'] - boundary['y'])\n",
    "        \n",
    "        A[row][col] -= dx * np.cos(boundary['theta'])\n",
    "        A[row][col] -= dy * np.sin(boundary['theta'])\n",
    "        \n",
    "        B[row][col] += dx**2.0 + dy**2.0\n",
    "        \n",
    "        C[row][col] += np.sin(control['theta'] - boundary['theta'])\n",
    "        \n",
    "        D[row][col] += np.cos(control['theta'] - boundary['theta'])\n",
    "        \n",
    "        E[row][col] += dx * np.sin(boundary['theta'])\n",
    "        E[row][col] -= dy * np.cos(boundary['theta'])\n",
    "        \n",
    "        S = boundary['S']\n",
    "        \n",
    "        num = S ** 2.0 - 2.0 * A[row][col] * S\n",
    "        den = B[row][col]\n",
    "        \n",
    "        F[row][col] += np.log(1.0 + num / den)\n",
    "        \n",
    "        num = E[row][col] * S\n",
    "        den = B[row][col] + A[row][col] * S\n",
    "        \n",
    "        G[row][col] += np.arctan(num / den)\n",
    "        \n",
    "        P[row][col] += dx * np.sin(control['theta'] - 2.0 * boundary['theta'])\n",
    "        P[row][col] += dy * np.cos(control['theta'] - 2.0 * boundary['theta'])\n",
    "        \n",
    "        Q[row][col] += dx * np.cos(control['theta'] - 2.0 * boundary['theta'])\n",
    "        Q[row][col] -= dy * np.sin(control['theta'] - 2.0 * boundary['theta'])\n",
    "    \n",
    "        C2[row][col] += D[row][col] \n",
    "        C2[row][col] += Q[row][col] * F[row][col] / 2.0 / S \n",
    "        C2[row][col] -= A[row][col] * C[row][col] * G[row][col] / S\n",
    "        C2[row][col] -= D[row][col] * E[row][col] * G[row][col] / S\n",
    "        \n",
    "        C1[row][col] += D[row][col] * F[row][col] / 2.0\n",
    "        C1[row][col] += C[row][col] * G[row][col]\n",
    "        C1[row][col] -= C2[row][col]\n",
    "        \n",
    "        # Tangential matrices\n",
    "        Ct2[row][col] += C[row][col]\n",
    "        Ct2[row][col] += P[row][col] * F[row][col] / 2.0 / S\n",
    "        Ct2[row][col] += A[row][col] * D[row][col] * G[row][col] / S\n",
    "        Ct2[row][col] -= C[row][col] * E[row][col] * G[row][col] / S\n",
    "        \n",
    "        Ct1[row][col] += C[row][col] * F[row][col] / 2.0\n",
    "        Ct1[row][col] -= D[row][col] * G[row][col]\n",
    "        Ct1[row][col] -= Ct2[row][col]\n",
    "        \n",
    "        \n",
    "# Apply special conditions to the diagonals\n",
    "np.fill_diagonal(C1, -1)\n",
    "np.fill_diagonal(C2,  1)\n",
    "\n",
    "np.fill_diagonal(Ct1, np.pi / 2.0)\n",
    "np.fill_diagonal(Ct2, np.pi / 2.0)"
   ]
  },
  {
   "cell_type": "code",
   "execution_count": 12,
   "metadata": {},
   "outputs": [
    {
     "data": {
      "text/plain": [
       "<matplotlib.axes._subplots.AxesSubplot at 0x1278decf8>"
      ]
     },
     "execution_count": 12,
     "metadata": {},
     "output_type": "execute_result"
    },
    {
     "data": {
      "image/png": "[encoded data removed]",
      "text/plain": [
       "<Figure size 432x288 with 2 Axes>"
      ]
     },
     "metadata": {
      "needs_background": "light"
     },
     "output_type": "display_data"
    }
   ],
   "source": [
    "sns.heatmap(C2, cmap = 'viridis', center = 0.0)"
   ]
  },
  {
   "cell_type": "code",
   "execution_count": 13,
   "metadata": {},
   "outputs": [],
   "source": [
    "def summand(i, j, gamma):\n",
    "    \n",
    "    return C1[i][j] * gamma[j] + C2[i][j] * gamma[j+1]"
   ]
  },
  {
   "cell_type": "code",
   "execution_count": 14,
   "metadata": {},
   "outputs": [],
   "source": [
    "def system_of_equations(gamma):\n",
    "        \n",
    "    # Prepare gammas\n",
    "    result = np.zeros_like(gamma)\n",
    "    \n",
    "    # Matrix-product implementation\n",
    "    for i in range(len(result)-1):\n",
    "        for j in range(len(gamma)-1):\n",
    "            \n",
    "            result[i] += summand(i, j, gamma)\n",
    "            \n",
    "    # Compatibility condition at the end\n",
    "    result[-1] = gamma[0] + gamma[-1]\n",
    "    \n",
    "    return result"
   ]
  },
  {
   "cell_type": "markdown",
   "metadata": {},
   "source": [
    "## Airflow solution\n",
    "\n",
    "So far, everything depends on the geometry. So now we are going to compute the RHS, which depends on the incidence angle. "
   ]
  },
  {
   "cell_type": "code",
   "execution_count": 15,
   "metadata": {},
   "outputs": [],
   "source": [
    "from scipy.sparse.linalg import LinearOperator\n",
    "from scipy.sparse.linalg import gmres"
   ]
  },
  {
   "cell_type": "markdown",
   "metadata": {},
   "source": [
    "An iterative linear operator will be used. This will not affect our solution, but will simplify the way we build the matrix. "
   ]
  },
  {
   "cell_type": "code",
   "execution_count": 16,
   "metadata": {},
   "outputs": [
    {
     "data": {
      "text/plain": [
       "<398x398 _CustomLinearOperator with dtype=float64>"
      ]
     },
     "execution_count": 16,
     "metadata": {},
     "output_type": "execute_result"
    }
   ],
   "source": [
    "A = LinearOperator((N_c, N_c), matvec=system_of_equations)\n",
    "A"
   ]
  },
  {
   "cell_type": "code",
   "execution_count": 17,
   "metadata": {},
   "outputs": [],
   "source": [
    "ALPHA = 0.0\n",
    "ALPHA = np.deg2rad(ALPHA)\n",
    "\n",
    "# RHS\n",
    "b = np.zeros(N_c)\n",
    "\n",
    "for idx in range(len(b)):\n",
    "    b[idx] = np.sin(thetas[idx] - ALPHA)\n",
    "\n",
    "# Kutta condition\n",
    "b[-1] = 0.0"
   ]
  },
  {
   "cell_type": "code",
   "execution_count": 18,
   "metadata": {},
   "outputs": [],
   "source": [
    "ITERATIONS_MAX     = 1000\n",
    "ITERATIONS_RESTART = ITERATIONS_MAX"
   ]
  },
  {
   "cell_type": "code",
   "execution_count": 19,
   "metadata": {},
   "outputs": [],
   "source": [
    "gammas, info = gmres(A, b, x0=np.ones(N_c), restart=ITERATIONS_RESTART, maxiter=ITERATIONS_MAX)"
   ]
  },
  {
   "cell_type": "code",
   "execution_count": 20,
   "metadata": {},
   "outputs": [
    {
     "data": {
      "text/plain": [
       "0"
      ]
     },
     "execution_count": 20,
     "metadata": {},
     "output_type": "execute_result"
    }
   ],
   "source": [
    "info"
   ]
  },
  {
   "cell_type": "code",
   "execution_count": 21,
   "metadata": {},
   "outputs": [],
   "source": [
    "def summand_tangential(i, j, gamma):\n",
    "    \n",
    "    return Ct1[i][j] * gamma[j] + Ct2[i][j] * gamma[j+1]"
   ]
  },
  {
   "cell_type": "code",
   "execution_count": 22,
   "metadata": {},
   "outputs": [],
   "source": [
    "def compute_velocity(gamma):\n",
    "    \n",
    "    # Prepare gammas\n",
    "    result = np.zeros_like(gamma)\n",
    "    \n",
    "    # Matrix-product implementation\n",
    "    for i in range(len(result)):\n",
    "        for j in range(len(gamma)-1):\n",
    "            \n",
    "            result[i] += summand_tangential(i, j, gamma)\n",
    "    \n",
    "    # Angles\n",
    "    theta = np.array(thetas)\n",
    "    \n",
    "    \n",
    "    return np.cos(theta - ALPHA) + result"
   ]
  },
  {
   "cell_type": "code",
   "execution_count": 23,
   "metadata": {},
   "outputs": [],
   "source": [
    "def compute_pressure_distribution(gamma):\n",
    "    \n",
    "    velocity = compute_velocity(gamma)\n",
    "    \n",
    "    return 1.0 - np.power(velocity, 2.0)"
   ]
  },
  {
   "cell_type": "code",
   "execution_count": 24,
   "metadata": {},
   "outputs": [],
   "source": [
    "cp = compute_pressure_distribution(gammas)"
   ]
  },
  {
   "cell_type": "code",
   "execution_count": 29,
   "metadata": {},
   "outputs": [
    {
     "data": {
      "text/plain": [
       "Text(0.5, 0, '$x$')"
      ]
     },
     "execution_count": 29,
     "metadata": {},
     "output_type": "execute_result"
    },
    {
     "data": {
      "image/png": "[encoded data removed]",
      "text/plain": [
       "<Figure size 432x288 with 1 Axes>"
      ]
     },
     "metadata": {
      "needs_background": "light"
     },
     "output_type": "display_data"
    }
   ],
   "source": [
    "plt.plot(x[:-1], -cp)\n",
    "plt.ylabel('-$C_p$')\n",
    "plt.xlabel('$x$')"
   ]
  },
  {
   "cell_type": "code",
   "execution_count": null,
   "metadata": {},
   "outputs": [],
   "source": []
  }
 ],
 "metadata": {
  "kernelspec": {
   "display_name": "Python 3",
   "language": "python",
   "name": "python3"
  },
  "language_info": {
   "codemirror_mode": {
    "name": "ipython",
    "version": 3
   },
   "file_extension": ".py",
   "mimetype": "text/x-python",
   "name": "python",
   "nbconvert_exporter": "python",
   "pygments_lexer": "ipython3",
   "version": "3.6.8"
  }
 },
 "nbformat": 4,
 "nbformat_minor": 4
}
