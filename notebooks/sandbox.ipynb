{
 "cells": [
  {
   "cell_type": "code",
   "execution_count": 2,
   "metadata": {},
   "outputs": [],
   "source": [
    "%load_ext autoreload\n",
    "%autoreload 2"
   ]
  },
  {
   "cell_type": "code",
   "execution_count": 38,
   "metadata": {},
   "outputs": [],
   "source": [
    "import numpy as np\n",
    "import pandas as pd\n",
    "import xfoil as xf\n",
    "\n",
    "import matplotlib.pyplot as plt\n",
    "\n",
    "from model import generate_middle_points\n",
    "\n",
    "plt.style.use('ggplot')"
   ]
  },
  {
   "cell_type": "code",
   "execution_count": 8,
   "metadata": {},
   "outputs": [],
   "source": [
    "airfoil = xf.XFoil()"
   ]
  },
  {
   "cell_type": "code",
   "execution_count": 18,
   "metadata": {},
   "outputs": [],
   "source": [
    "airfoil.repanel(n_nodes=10)"
   ]
  },
  {
   "cell_type": "code",
   "execution_count": 20,
   "metadata": {},
   "outputs": [],
   "source": [
    "airfoil.naca('0012')"
   ]
  },
  {
   "cell_type": "code",
   "execution_count": 23,
   "metadata": {},
   "outputs": [],
   "source": [
    "_x = airfoil.airfoil.x\n",
    "_y = airfoil.airfoil.y"
   ]
  },
  {
   "cell_type": "code",
   "execution_count": 27,
   "metadata": {},
   "outputs": [],
   "source": [
    "_x = _x[::10]\n",
    "_y = _y[::10]"
   ]
  },
  {
   "cell_type": "code",
   "execution_count": 41,
   "metadata": {},
   "outputs": [
    {
     "data": {
      "text/plain": [
       "[<matplotlib.lines.Line2D at 0x12afdf908>]"
      ]
     },
     "execution_count": 41,
     "metadata": {},
     "output_type": "execute_result"
    },
    {
     "data": {
      "image/png": "[encoded data removed]",
      "text/plain": [
       "<Figure size 432x288 with 1 Axes>"
      ]
     },
     "metadata": {},
     "output_type": "display_data"
    }
   ],
   "source": [
    "plt.plot(_x, _y, marker = '*')\n",
    "plt.plot(generate_middle_points(_x), generate_middle_points(_y), marker = '+')"
   ]
  },
  {
   "cell_type": "code",
   "execution_count": 130,
   "metadata": {},
   "outputs": [],
   "source": [
    "class Panel():\n",
    "    \"\"\"\n",
    "    Panel discretization.\n",
    "    \n",
    "    self.start = np.array([x, y])\n",
    "    \"\"\"\n",
    "    \n",
    "    def __init__(self, start, end):\n",
    "        \"\"\"\n",
    "        Parameters\n",
    "        ----------\n",
    "        start: np.array\n",
    "            [x, y]\n",
    "        \n",
    "        end: np.array\n",
    "            [x, y]\n",
    "        \"\"\"\n",
    "        self.start = start\n",
    "        self.end   = end\n",
    "        \n",
    "    @property\n",
    "    def xs(self):\n",
    "        \"\"\"\n",
    "        X coordinates.\n",
    "    \n",
    "        Returns\n",
    "        -------\n",
    "        np.array\n",
    "            [start, end]\n",
    "        \"\"\"\n",
    "        return np.array([self.start[0], self.end[0]])\n",
    "\n",
    "    @property\n",
    "    def ys(self):\n",
    "        \"\"\"\n",
    "        Y coordinates.\n",
    "    \n",
    "        Returns\n",
    "        -------\n",
    "        np.array\n",
    "            [start, end]\n",
    "        \"\"\"\n",
    "        return np.array([self.start[1], self.end[1]])    \n",
    "\n",
    "    @property\n",
    "    def length(self):\n",
    "        \"\"\"\n",
    "        Panel length.\n",
    "        \"\"\"\n",
    "        _length = self.end - self.start\n",
    "        _length = np.power(_length, 2.0)\n",
    "        _length = np.sum(_length)\n",
    "        _length = np.sqrt(_length)\n",
    "        \n",
    "        return _length\n",
    "    \n",
    "    def eta_point(self, eta = 0.5):\n",
    "        \"\"\"\n",
    "        Coordinates eta units from the start.\n",
    "        \n",
    "        Parameters\n",
    "        ----------\n",
    "        eta: float\n",
    "            Between 0 and 1.\n",
    "            eta = 0: start\n",
    "            eta = 1: end\n",
    "            \n",
    "        Returns\n",
    "        -------\n",
    "        np.array\n",
    "            [x, y]\n",
    "        \"\"\"\n",
    "        return (1.0 - eta) * self.start + eta * self.end\n",
    "    \n",
    "    @property\n",
    "    def mid_point(self):\n",
    "        \"\"\"\n",
    "        Mid-point coordinates. \n",
    "        \"\"\"\n",
    "        return self.eta_point(eta = 0.5)\n",
    "    \n",
    "    @property\n",
    "    def mid_point_x(self):\n",
    "        \"\"\"\n",
    "        Mid-point X coordinate. \n",
    "        \"\"\"\n",
    "        return self.mid_point[0]\n",
    "    \n",
    "    @property\n",
    "    def mid_point_y(self):\n",
    "        \"\"\"\n",
    "        Mid-point Y coordinate. \n",
    "        \"\"\"\n",
    "        return self.mid_point[1]\n",
    "    \n",
    "    @property\n",
    "    def angle(self):\n",
    "        \"\"\"\n",
    "        Panel angle in radians. \n",
    "        \n",
    "        Returns\n",
    "        -------\n",
    "        float \n",
    "        \"\"\"\n",
    "        x_start, x_end = self.xs\n",
    "        y_start, y_end = self.ys\n",
    "        \n",
    "        NUM = y_end - y_start\n",
    "        DEN = x_end - x_start\n",
    "        \n",
    "        angle = np.arctan2(NUM, DEN)\n",
    "        \n",
    "        return angle\n",
    "    \n",
    "    def plot(self):\n",
    "                \n",
    "        xs = self.xs\n",
    "        ys = self.ys\n",
    "            \n",
    "        plt.plot(xs, ys)\n",
    "        \n",
    "        plt.text(xs[0], ys[0], 'Start')\n",
    "        plt.text(xs[1], ys[1], 'End')"
   ]
  },
  {
   "cell_type": "code",
   "execution_count": 131,
   "metadata": {},
   "outputs": [],
   "source": [
    "def distance(x1, x2):\n",
    "    \"\"\"\n",
    "    Compute distance between two points.\n",
    "    \"\"\"\n",
    "    x1 = np.array(x1)\n",
    "    x2 = np.array(x2)\n",
    "    \n",
    "    length = x2 - x1\n",
    "    length = np.power(length, 2.0)\n",
    "    length = np.sum(length)\n",
    "    length = np.sqrt(length)\n",
    "    \n",
    "    return length"
   ]
  },
  {
   "cell_type": "code",
   "execution_count": 114,
   "metadata": {},
   "outputs": [],
   "source": [
    "panels = []\n",
    "\n",
    "for x_start, x_end, y_start, y_end in zip(_x, _x[1:], _y, _y[1:]):\n",
    "    \n",
    "    start = np.array([x_start, y_start])\n",
    "    end   = np.array([x_end,   y_end])\n",
    "    \n",
    "    panel = Panel(start=start, end=end)\n",
    "    \n",
    "    panels.append(panel)"
   ]
  },
  {
   "cell_type": "code",
   "execution_count": 115,
   "metadata": {},
   "outputs": [
    {
     "data": {
      "image/png": "[encoded data removed]",
      "text/plain": [
       "<Figure size 432x288 with 1 Axes>"
      ]
     },
     "metadata": {},
     "output_type": "display_data"
    }
   ],
   "source": [
    "panel.plot()"
   ]
  },
  {
   "cell_type": "code",
   "execution_count": 116,
   "metadata": {},
   "outputs": [
    {
     "data": {
      "text/plain": [
       "array([ 0.94747895, -0.00828501])"
      ]
     },
     "execution_count": 116,
     "metadata": {},
     "output_type": "execute_result"
    }
   ],
   "source": [
    "panel.mid_point"
   ]
  },
  {
   "cell_type": "code",
   "execution_count": 117,
   "metadata": {},
   "outputs": [
    {
     "data": {
      "text/plain": [
       "array([ 0.91710209, -0.01228638])"
      ]
     },
     "execution_count": 117,
     "metadata": {},
     "output_type": "execute_result"
    }
   ],
   "source": [
    "panel.eta_point(eta = 0.1)"
   ]
  },
  {
   "cell_type": "code",
   "execution_count": 118,
   "metadata": {},
   "outputs": [],
   "source": [
    "num_panels = len(panels)"
   ]
  },
  {
   "cell_type": "code",
   "execution_count": 119,
   "metadata": {},
   "outputs": [],
   "source": [
    "# Matrices initialization\n",
    "Cn1 = np.zeros((num_panels, num_panels))\n",
    "Cn2 = np.zeros((num_panels, num_panels))\n",
    "\n",
    "Normal_Matrix = np.zeros((num_panels + 1, \n",
    "                          num_panels + 1))"
   ]
  },
  {
   "cell_type": "code",
   "execution_count": 148,
   "metadata": {},
   "outputs": [],
   "source": [
    "for i in range(panels):\n",
    "    \n",
    "    for j in range(panels):\n",
    "        \n",
    "        # Panels\n",
    "        panel_i = panels[i]\n",
    "        panel_j = panels[j]\n",
    "        \n",
    "        #############\n",
    "        # Unpack data\n",
    "        #############\n",
    "        # Lengths\n",
    "        x_control = panel_i.mid_point_x\n",
    "        y_control = panel_i.mid_point_y\n",
    "\n",
    "        x_panel   = panel_j.xs[0]        \n",
    "        y_panel   = panel_j.ys[0]\n",
    "        \n",
    "        dx = x_control - x_panel\n",
    "        dy = y_control - y_panel\n",
    "        \n",
    "        S = panel_j.length\n",
    "        \n",
    "        # Angles\n",
    "        theta_control = panel_i.angle\n",
    "        theta_panel   = panel_j.angle\n",
    "        \n",
    "        sin2 = np.sin(theta_control - 2 * theta_panel)\n",
    "        cos2 = np.cos(theta_control - 2 * theta_panel)\n",
    "        \n",
    "        ##############\n",
    "        # Coefficients\n",
    "        ##############\n",
    "        A  = -dx * np.cos(theta_panel)\n",
    "        A -=  dy * np.sin(theta_panel)\n",
    "        \n",
    "        B = distance(x1 = (x_control, y_control), \n",
    "                     x2 = (x_panel,   y_panel))\n",
    "        B = B**2.0\n",
    "        \n",
    "        E  = dx * np.sin(theta_panel)\n",
    "        E -= dy * np.cos(theta_panel)\n",
    "        \n",
    "        C = np.sin(theta_control - theta_panel)\n",
    "        D = np.cos(theta_control - theta_panel)\n",
    "        \n",
    "        F = np.log(1.0 + (S**2.0 + 2.0 * A * S) / B)\n",
    "        \n",
    "        G = np.arctan2(E*S, B + A*S)\n",
    "        \n",
    "        P = dx * sin2 + dy * cos2\n",
    "        Q = dx * cos2 - dy * sin2\n",
    "        \n",
    "        \n",
    "        "
   ]
  },
  {
   "cell_type": "code",
   "execution_count": 140,
   "metadata": {},
   "outputs": [
    {
     "data": {
      "text/plain": [
       "0.004958875836972272"
      ]
     },
     "execution_count": 140,
     "metadata": {},
     "output_type": "execute_result"
    }
   ],
   "source": [
    "np.cos(theta_panel) * (y_control - y_panel)"
   ]
  },
  {
   "cell_type": "code",
   "execution_count": null,
   "metadata": {},
   "outputs": [],
   "source": [
    "for i = 1 : 2 * N\n",
    "    for j = 1 : 2 * N  \n",
    "        A  =  -(X_control(i) - X_panels(j)) * cos(Theta(j)) - (Y_control(i) - Y_panels(j)) * sin(Theta(j));\n",
    "        B  =   (X_control(i) - X_panels(j))^2               + (Y_control(i) - Y_panels(j))^2;\n",
    "        E  =   (X_control(i) - X_panels(j)) * sin(Theta(j)) - (Y_control(i) - Y_panels(j)) * cos(Theta(j));\n",
    "        \n",
    "        C  = sin(Theta(i) - Theta(j));\n",
    "        D  = cos(Theta(i) - Theta(j));\n",
    "        \n",
    "        F  = log(1 + (S(j)^2 + 2 * A * S(j)) / B );\n",
    "        G  = atan2((E * S(j) ),(B + A * S(j)));\n",
    "        P  = (X_control(i) - X_panels(j)) * sin(Theta(i) - 2 * Theta(j)) + (Y_control(i) - Y_panels(j)) * cos(Theta(i) - 2 * Theta(j));\n",
    "        Q  = (X_control(i) - X_panels(j)) * cos(Theta(i) - 2 * Theta(j)) - (Y_control(i) - Y_panels(j)) * sin(Theta(i) - 2 * Theta(j));\n",
    "        \n",
    "        Cn2(i,j) = D + 0.5 .* Q .* F ./ S(j) - (A * C + D * E) * G / S(j);\n",
    "        Cn1(i,j) = 0.5 * D * F + C * G - Cn2(i,j);\n",
    "    end\n",
    "end"
   ]
  }
 ],
 "metadata": {
  "kernelspec": {
   "display_name": "xfoil",
   "language": "python",
   "name": "xfoil"
  },
  "language_info": {
   "codemirror_mode": {
    "name": "ipython",
    "version": 3
   },
   "file_extension": ".py",
   "mimetype": "text/x-python",
   "name": "python",
   "nbconvert_exporter": "python",
   "pygments_lexer": "ipython3",
   "version": "3.6.8"
  },
  "latex_envs": {
   "LaTeX_envs_menu_present": true,
   "autoclose": false,
   "autocomplete": true,
   "bibliofile": "biblio.bib",
   "cite_by": "apalike",
   "current_citInitial": 1,
   "eqLabelWithNumbers": true,
   "eqNumInitial": 1,
   "hotkeys": {
    "equation": "Ctrl-E",
    "itemize": "Ctrl-I"
   },
   "labels_anchors": false,
   "latex_user_defs": false,
   "report_style_numbering": false,
   "user_envs_cfg": false
  },
  "toc": {
   "base_numbering": 1,
   "nav_menu": {},
   "number_sections": true,
   "sideBar": true,
   "skip_h1_title": false,
   "title_cell": "Table of Contents",
   "title_sidebar": "Contents",
   "toc_cell": false,
   "toc_position": {},
   "toc_section_display": true,
   "toc_window_display": false
  },
  "varInspector": {
   "cols": {
    "lenName": 16,
    "lenType": 16,
    "lenVar": 40
   },
   "kernels_config": {
    "python": {
     "delete_cmd_postfix": "",
     "delete_cmd_prefix": "del ",
     "library": "var_list.py",
     "varRefreshCmd": "print(var_dic_list())"
    },
    "r": {
     "delete_cmd_postfix": ") ",
     "delete_cmd_prefix": "rm(",
     "library": "var_list.r",
     "varRefreshCmd": "cat(var_dic_list()) "
    }
   },
   "types_to_exclude": [
    "module",
    "function",
    "builtin_function_or_method",
    "instance",
    "_Feature"
   ],
   "window_display": false
  }
 },
 "nbformat": 4,
 "nbformat_minor": 4
}
