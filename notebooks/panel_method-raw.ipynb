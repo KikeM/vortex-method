{
 "cells": [
  {
   "cell_type": "code",
   "execution_count": 441,
   "metadata": {},
   "outputs": [
    {
     "name": "stdout",
     "output_type": "stream",
     "text": [
      "The autoreload extension is already loaded. To reload it, use:\n",
      "  %reload_ext autoreload\n"
     ]
    }
   ],
   "source": [
    "%load_ext autoreload\n",
    "%autoreload 2"
   ]
  },
  {
   "cell_type": "markdown",
   "metadata": {},
   "source": [
    "## Imports\n",
    "\n",
    "* Python libraries.\n",
    "* Models for the NACA airfoil and the panel discretization. "
   ]
  },
  {
   "cell_type": "code",
   "execution_count": 442,
   "metadata": {},
   "outputs": [],
   "source": [
    "import numpy as np\n",
    "import pandas as pd\n",
    "\n",
    "import seaborn as sns\n",
    "import matplotlib.pyplot as plt\n",
    "plt.style.use('ggplot')\n",
    "\n",
    "from naca import NacaGenerator\n",
    "from panel import Panel"
   ]
  },
  {
   "cell_type": "markdown",
   "metadata": {},
   "source": [
    "# Vortex Panel Method"
   ]
  },
  {
   "cell_type": "markdown",
   "metadata": {},
   "source": [
    "Define the NACA profile and the number of points. "
   ]
  },
  {
   "cell_type": "code",
   "execution_count": 443,
   "metadata": {},
   "outputs": [],
   "source": [
    "NACA = '0012'\n",
    "NUM_POINTS_X = 100"
   ]
  },
  {
   "cell_type": "markdown",
   "metadata": {},
   "source": [
    "Helper method to create the airfoil."
   ]
  },
  {
   "cell_type": "code",
   "execution_count": 444,
   "metadata": {},
   "outputs": [],
   "source": [
    "def generate_airfoil(NACA, NUM_POINTS_X):\n",
    "    airfoil = NacaGenerator(naca=NACA)\n",
    "\n",
    "    airfoil.generate_cosine_distribution(N=NUM_POINTS_X);\n",
    "    airfoil.generate_naca();\n",
    "    \n",
    "    return airfoil"
   ]
  },
  {
   "cell_type": "markdown",
   "metadata": {},
   "source": [
    "Generate the airfoil. "
   ]
  },
  {
   "cell_type": "code",
   "execution_count": 445,
   "metadata": {},
   "outputs": [
    {
     "name": "stdout",
     "output_type": "stream",
     "text": [
      "Generating cosine distribution with 100 points ...\n"
     ]
    },
    {
     "data": {
      "image/png": "[encoded data removed]",
      "text/plain": [
       "<Figure size 432x288 with 1 Axes>"
      ]
     },
     "metadata": {},
     "output_type": "display_data"
    }
   ],
   "source": [
    "airfoil = generate_airfoil(NACA, NUM_POINTS_X=NUM_POINTS_X)\n",
    "\n",
    "airfoil.plot()"
   ]
  },
  {
   "cell_type": "markdown",
   "metadata": {},
   "source": [
    "Get the $(x,y)$ coordinates of the airfoil in the **clockwise** direction, starting by the trailing-edge. "
   ]
  },
  {
   "cell_type": "code",
   "execution_count": 446,
   "metadata": {},
   "outputs": [],
   "source": [
    "x, y = airfoil.clockwise_naca()\n",
    "\n",
    "# Enforce actual zeros\n",
    "x = np.where(np.isclose(x, 0), 0, x)\n",
    "y = np.where(np.isclose(y, 0), 0, y)"
   ]
  },
  {
   "cell_type": "code",
   "execution_count": 447,
   "metadata": {},
   "outputs": [],
   "source": [
    "N_b = len(x)"
   ]
  },
  {
   "cell_type": "markdown",
   "metadata": {},
   "source": [
    "Build a list of panels in the **clockwise** direction. "
   ]
  },
  {
   "cell_type": "code",
   "execution_count": 448,
   "metadata": {},
   "outputs": [
    {
     "data": {
      "text/plain": [
       "199"
      ]
     },
     "execution_count": 448,
     "metadata": {},
     "output_type": "execute_result"
    }
   ],
   "source": [
    "N_b"
   ]
  },
  {
   "cell_type": "code",
   "execution_count": 449,
   "metadata": {},
   "outputs": [],
   "source": [
    "x_c   = np.zeros(N_b - 1)\n",
    "y_c   = np.zeros(N_b - 1)\n",
    "S     = np.zeros(N_b - 1)\n",
    "theta = np.zeros(N_b - 1)\n",
    "normals = []\n",
    "lines = []\n",
    "\n",
    "idx = 0\n",
    "for xs, xe, ys, ye in zip(x, x[1:], y, y[1:]):\n",
    "    \n",
    "    # Control points\n",
    "    x_c[idx] = (xs + xe) / 2.0\n",
    "    y_c[idx] = (ys + ye) / 2.0\n",
    "    \n",
    "    # Length\n",
    "    _S     = (xe - xs)**2.0 + (ye - ys)**2.0\n",
    "    S[idx] = np.sqrt(_S) \n",
    "    \n",
    "    # Angle\n",
    "    theta[idx] = np.arctan2(ye - ys , \n",
    "                            xe - xs)\n",
    "    \n",
    "    #########\n",
    "    # Vectors\n",
    "    #########\n",
    "    # Normal\n",
    "    normal = np.array([-(ye-ys), (xe-xs)])\n",
    "    normal = normal / np.linalg.norm(normal)\n",
    "    \n",
    "    normals.append(normal)\n",
    "    \n",
    "    # Line\n",
    "    line = np.array([(xe-xs), (ye-ys)])\n",
    "    line = line / np.linalg.norm(line)\n",
    "    \n",
    "    lines.append(line)\n",
    "    \n",
    "    # Update index counter\n",
    "    idx += 1\n",
    "\n",
    "normals = np.array(normals)\n",
    "lines = np.array(lines)"
   ]
  },
  {
   "cell_type": "markdown",
   "metadata": {},
   "source": [
    "Get the control points and the angles. "
   ]
  },
  {
   "cell_type": "code",
   "execution_count": 450,
   "metadata": {},
   "outputs": [],
   "source": [
    "Cn1 = np.zeros(shape = (N_b-1, N_b-1))\n",
    "Cn2 = np.zeros(shape = (N_b-1, N_b-1))\n",
    "\n",
    "Ct1 = np.zeros(shape = (N_b-1, N_b-1))\n",
    "Ct2 = np.zeros(shape = (N_b-1, N_b-1))\n",
    "\n",
    "for i in range(N_b-1):\n",
    "    for j in range(N_b-1):\n",
    "    \n",
    "        if i == j:\n",
    "            \n",
    "            Cn1[i,j] = -1\n",
    "            Cn2[i,j] =  1 \n",
    "            \n",
    "            Ct1[i,j] = 0.5 * np.pi\n",
    "            Ct2[i,j] = 0.5 * np.pi\n",
    "        \n",
    "        else:\n",
    "            \n",
    "            A = - (x_c[i] - x[j])*(np.cos(theta[j])) - (y_c[i] - y[j])*(np.sin(theta[j]))\n",
    "            B = (x_c[i] - x[j])**2.0 + (y_c[i] - y[j])**2.0\n",
    "            C = np.sin(theta[i] - theta[j])\n",
    "            D = np.cos(theta[i] - theta[j])\n",
    "            E = (x_c[i] - x[j]) * np.sin(theta[j]) - (y_c[i] - y[j]) * np.cos(theta[j])\n",
    "            F = np.log(1.0 + ((S[j])**2.0 + (2.0 * A * S[j])) / B)\n",
    "            G = np.arctan2((E*S[j]) , (B + A * S[j]))\n",
    "            P = ((x_c[i] - x[j]) * np.sin(theta[i] - 2.0 * theta[j])) + ((y_c[i] - y[j]) * np.cos(theta[i] - 2.0 * theta[j]))\n",
    "            Q = ((x_c[i] - x[j]) * np.cos(theta[i] - 2.0 * theta[j])) - ((y_c[i] - y[j]) * np.sin(theta[i] - 2.0 * theta[j]))\n",
    "            \n",
    "            Cn2[i,j] = D + ((0.5 * Q * F) / S[j]) - ((A*C + D*E) * (G / S[j]))\n",
    "            Cn1[i,j] = 0.5*D*F + C*G - Cn2[i,j]\n",
    "            Ct2[i,j] = C + ((0.5 * P * F) / S[j]) + ((A*D - C*E) * (G / S[j]))\n",
    "            Ct1[i,j] = 0.5*C*F - D*G - Ct2[i,j]"
   ]
  },
  {
   "cell_type": "code",
   "execution_count": 451,
   "metadata": {},
   "outputs": [],
   "source": [
    "def summand(i, j, gamma):\n",
    "    \n",
    "    return Cn1[i,j] * gamma[j] + Cn2[i,j] * gamma[j+1]"
   ]
  },
  {
   "cell_type": "code",
   "execution_count": 452,
   "metadata": {},
   "outputs": [],
   "source": [
    "def system_of_equations(gamma):\n",
    "        \n",
    "    # Prepare gammas\n",
    "    result = np.zeros_like(gamma)\n",
    "    \n",
    "    # Matrix-product implementation\n",
    "    for i in range(len(result)-1):\n",
    "        for j in range(len(gamma)-1):\n",
    "            \n",
    "            result[i] += summand(i, j, gamma)\n",
    "            \n",
    "    # Compatibility condition at the end\n",
    "    result[-1] = gamma[0] + gamma[-1]\n",
    "    \n",
    "    return result"
   ]
  },
  {
   "cell_type": "markdown",
   "metadata": {},
   "source": [
    "## Airflow solution\n",
    "\n",
    "So far, everything depends on the geometry. So now we are going to compute the RHS, which depends on the incidence angle. "
   ]
  },
  {
   "cell_type": "code",
   "execution_count": 453,
   "metadata": {},
   "outputs": [],
   "source": [
    "from scipy.sparse.linalg import LinearOperator\n",
    "from scipy.sparse.linalg import gmres"
   ]
  },
  {
   "cell_type": "markdown",
   "metadata": {},
   "source": [
    "An iterative linear operator will be used. This will not affect our solution, but will simplify the way we build the matrix. "
   ]
  },
  {
   "cell_type": "code",
   "execution_count": 454,
   "metadata": {},
   "outputs": [
    {
     "data": {
      "text/plain": [
       "<199x199 _CustomLinearOperator with dtype=float64>"
      ]
     },
     "execution_count": 454,
     "metadata": {},
     "output_type": "execute_result"
    }
   ],
   "source": [
    "A = LinearOperator((N_b, N_b), matvec=system_of_equations)\n",
    "A"
   ]
  },
  {
   "cell_type": "code",
   "execution_count": 467,
   "metadata": {},
   "outputs": [],
   "source": [
    "ALPHA = -3.0\n",
    "ALPHA = np.deg2rad(ALPHA)\n",
    "\n",
    "# RHS\n",
    "b = np.zeros(N_b)\n",
    "\n",
    "for idx in range(len(b)-1):\n",
    "    b[idx] = np.sin(theta[idx] - ALPHA)\n",
    "\n",
    "# Kutta condition\n",
    "b[-1] = 0.0"
   ]
  },
  {
   "cell_type": "code",
   "execution_count": 468,
   "metadata": {},
   "outputs": [],
   "source": [
    "ITERATIONS_MAX     = 10000\n",
    "ITERATIONS_RESTART = ITERATIONS_MAX"
   ]
  },
  {
   "cell_type": "code",
   "execution_count": 469,
   "metadata": {},
   "outputs": [],
   "source": [
    "gammas, info = gmres(A, b, \n",
    "                     x0      = np.ones(N_b), \n",
    "                     restart = ITERATIONS_RESTART, \n",
    "                     maxiter = ITERATIONS_MAX, \n",
    "                     tol     = 1e-8,\n",
    "                     atol    = 1e-8) "
   ]
  },
  {
   "cell_type": "code",
   "execution_count": 470,
   "metadata": {},
   "outputs": [
    {
     "data": {
      "text/plain": [
       "0"
      ]
     },
     "execution_count": 470,
     "metadata": {},
     "output_type": "execute_result"
    }
   ],
   "source": [
    "info"
   ]
  },
  {
   "cell_type": "code",
   "execution_count": 471,
   "metadata": {},
   "outputs": [],
   "source": [
    "def summand_tangential(i, j, gamma):\n",
    "    \n",
    "    return Ct1[i][j] * gamma[j] + Ct2[i][j] * gamma[j+1]"
   ]
  },
  {
   "cell_type": "code",
   "execution_count": 472,
   "metadata": {},
   "outputs": [],
   "source": [
    "def compute_velocity(gamma):\n",
    "    \n",
    "    # Prepare gammas\n",
    "    result = np.zeros(len(gamma)-1)\n",
    "    \n",
    "    # Matrix-product implementation\n",
    "    for i in range(len(result)):\n",
    "        for j in range(len(gamma)-1):\n",
    "            \n",
    "            result[i] += summand_tangential(i, j, gamma)\n",
    "    \n",
    "    return np.cos(theta - ALPHA) + result"
   ]
  },
  {
   "cell_type": "code",
   "execution_count": 473,
   "metadata": {},
   "outputs": [],
   "source": [
    "def compute_pressure_distribution(gamma):\n",
    "    \n",
    "    velocity = compute_velocity(gamma)\n",
    "    \n",
    "    return 1.0 - np.power(velocity, 2.0)"
   ]
  },
  {
   "cell_type": "code",
   "execution_count": 474,
   "metadata": {},
   "outputs": [],
   "source": [
    "def compute_lift(gamma):\n",
    "    \n",
    "    cp = compute_pressure_distribution(gamma)\n",
    "    vec_j = np.array([0, 1])\n",
    "     \n",
    "    return np.sum(-cp * np.dot(normals, vec_j) * S)"
   ]
  },
  {
   "cell_type": "code",
   "execution_count": 475,
   "metadata": {},
   "outputs": [
    {
     "data": {
      "text/plain": [
       "-0.3599597337903935"
      ]
     },
     "execution_count": 475,
     "metadata": {},
     "output_type": "execute_result"
    }
   ],
   "source": [
    "compute_lift(gammas)"
   ]
  },
  {
   "cell_type": "code",
   "execution_count": 465,
   "metadata": {},
   "outputs": [
    {
     "data": {
      "text/plain": [
       "Text(0.5, 0, '$x$')"
      ]
     },
     "execution_count": 465,
     "metadata": {},
     "output_type": "execute_result"
    },
    {
     "data": {
      "image/png": "[encoded data removed]",
      "text/plain": [
       "<Figure size 432x288 with 1 Axes>"
      ]
     },
     "metadata": {},
     "output_type": "display_data"
    }
   ],
   "source": [
    "cp = compute_pressure_distribution(gammas)\n",
    "\n",
    "plt.plot(x_c, -cp)\n",
    "plt.ylabel('-$C_p$')\n",
    "plt.xlabel('$x$')"
   ]
  },
  {
   "cell_type": "code",
   "execution_count": 466,
   "metadata": {},
   "outputs": [
    {
     "data": {
      "text/plain": [
       "Text(0.5, 0, '$x$')"
      ]
     },
     "execution_count": 466,
     "metadata": {},
     "output_type": "execute_result"
    },
    {
     "data": {
      "image/png": "[encoded data removed]",
      "text/plain": [
       "<Figure size 432x288 with 1 Axes>"
      ]
     },
     "metadata": {},
     "output_type": "display_data"
    }
   ],
   "source": [
    "plt.plot(x, gammas)\n",
    "plt.ylabel('$\\gamma_i$')\n",
    "plt.xlabel('$x$')"
   ]
  },
  {
   "cell_type": "code",
   "execution_count": 285,
   "metadata": {},
   "outputs": [
    {
     "data": {
      "text/plain": [
       "array([ 1.96820603e-02, -1.53301185e-01, -1.73773717e-01, -1.89084501e-01,\n",
       "       -9.20152843e-13,  1.89084501e-01,  1.73773717e-01,  1.53301185e-01,\n",
       "       -1.96820603e-02])"
      ]
     },
     "execution_count": 285,
     "metadata": {},
     "output_type": "execute_result"
    }
   ],
   "source": [
    "gammas"
   ]
  },
  {
   "cell_type": "code",
   "execution_count": null,
   "metadata": {},
   "outputs": [],
   "source": []
  },
  {
   "cell_type": "code",
   "execution_count": null,
   "metadata": {},
   "outputs": [],
   "source": []
  },
  {
   "cell_type": "code",
   "execution_count": null,
   "metadata": {},
   "outputs": [],
   "source": []
  }
 ],
 "metadata": {
  "kernelspec": {
   "display_name": "Python 3",
   "language": "python",
   "name": "python3"
  },
  "language_info": {
   "codemirror_mode": {
    "name": "ipython",
    "version": 3
   },
   "file_extension": ".py",
   "mimetype": "text/x-python",
   "name": "python",
   "nbconvert_exporter": "python",
   "pygments_lexer": "ipython3",
   "version": "3.6.8"
  }
 },
 "nbformat": 4,
 "nbformat_minor": 4
}
